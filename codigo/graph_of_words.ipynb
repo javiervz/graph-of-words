{
 "cells": [
  {
   "cell_type": "markdown",
   "metadata": {},
   "source": [
    "# graph of words\n",
    "### referencia  http://citeseerx.ist.psu.edu/viewdoc/download;jsessionid=907E7B3B0E507B2DDF531A314D215114?doi=10.1.1.348.6172&rep=rep1&type=pdf"
   ]
  },
  {
   "cell_type": "code",
   "execution_count": 7,
   "metadata": {},
   "outputs": [],
   "source": [
    "import ast\n",
    "import re\n",
    "from nltk import sent_tokenize\n",
    "import spacy\n",
    "nlp = spacy.load('en')\n",
    "import numpy as np\n",
    "import networkx as nx\n",
    "import random\n",
    "import operator\n",
    "import itertools\n",
    "import matplotlib.pyplot as plt\n",
    "from nltk.corpus import stopwords # stopwords de nltk \n",
    "stop_words = set(stopwords.words('english'))"
   ]
  },
  {
   "cell_type": "markdown",
   "metadata": {},
   "source": [
    "### clean text - elegimos si filtramos los textos para dejar unicamente sustantivos (comunes + propios) y adjetivos o si filtramos solo stop_words"
   ]
  },
  {
   "cell_type": "code",
   "execution_count": 49,
   "metadata": {},
   "outputs": [],
   "source": [
    "# filter_nouns_adj indica el tipo de filtrado\n",
    "# True dejamos sustantivos (comunes y propios) y adjetivos\n",
    "# False filtramos solo stopwords\n",
    "\n",
    "def clean(text,filter_nouns_adj):\n",
    "    sentences=sent_tokenize(text)\n",
    "    sentences=[nlp(sentence) for sentence in sentences]\n",
    "    \n",
    "    if filter_nouns_adj==True:\n",
    "        sentences=[[token.lemma_ for token in sentence if token.pos_=='NOUN' or token.pos_=='ADJ' or token.pos_=='PROPN'] for sentence in sentences]\n",
    "    else:\n",
    "        sentences=[[token.lemma_ for token in sentence] for sentence in sentences]\n",
    "\n",
    "    text=[item for sublist in sentences for item in sublist]\n",
    "    text=[word for word in text if not word in stop_words]\n",
    "    return text"
   ]
  },
  {
   "cell_type": "code",
   "execution_count": 63,
   "metadata": {},
   "outputs": [
    {
     "data": {
      "text/plain": [
       "['cat', 'dog', 'knife', 'lion', 'cat', 'hummer']"
      ]
     },
     "execution_count": 63,
     "metadata": {},
     "output_type": "execute_result"
    }
   ],
   "source": [
    "text='the cat killed the dog with a knife. The lion killed the cat with a hummer'\n",
    "clean(text,True)"
   ]
  },
  {
   "cell_type": "markdown",
   "metadata": {},
   "source": [
    "### graph of words"
   ]
  },
  {
   "cell_type": "code",
   "execution_count": 64,
   "metadata": {},
   "outputs": [],
   "source": [
    "# K es el largo de la ventana\n",
    "# filter_nouns_adj indica el tipo de filtrado\n",
    "def graph_weighted(text,K,filter_nouns_adj):\n",
    "    text=clean(text,filter_nouns_adj)\n",
    "    unique_words=list(set(text))\n",
    "    G=nx.Graph()\n",
    "    for word in unique_words:\n",
    "        G.add_node(word)\n",
    "    for word in text: ## recorremos el texto y encontramos los indices de todas las aparicions de word (index_word)\n",
    "        index_word=[index for index, value in enumerate(text) if value == word]\n",
    "        ## ahora buscamos las palabras vecinas en una ventana de largo K (hacia adelante)\n",
    "        for index in index_word:\n",
    "            for k in range(1,K+1):\n",
    "                if index+k in range(len(text)):\n",
    "                    if G.has_edge(text[index],text[index+k])==False:\n",
    "                        G.add_edge(text[index],text[index+k],weight=1)\n",
    "                    else:\n",
    "                        x=G[text[index]][text[index+k]]['weight']\n",
    "                        G[text[index]][text[index+k]]['weight']=x+1\n",
    "    \n",
    "    return G"
   ]
  },
  {
   "cell_type": "code",
   "execution_count": 65,
   "metadata": {},
   "outputs": [
    {
     "data": {
      "text/plain": [
       "<networkx.classes.graph.Graph at 0x7f81299e7780>"
      ]
     },
     "execution_count": 65,
     "metadata": {},
     "output_type": "execute_result"
    }
   ],
   "source": [
    "graph_weighted(text,2,False)"
   ]
  },
  {
   "cell_type": "markdown",
   "metadata": {},
   "source": [
    "### Keywords a partir de graph of words. Se utiliza pagerank como algoritmo para encontrar nodos importantes"
   ]
  },
  {
   "cell_type": "code",
   "execution_count": 66,
   "metadata": {},
   "outputs": [],
   "source": [
    "# K es el largo de la ventana\n",
    "# filter_nouns_adj indica el tipo de filtrado\n",
    "# number_keywords indica el numero de keywords\n",
    "def keywords_pagerank(text,number_keywords,filter_nouns_adj,K):\n",
    "    G=graph_weighted(text,K,filter_nouns_adj)\n",
    "    keywords=nx.pagerank(G, alpha=0.85, weight='weight')\n",
    "    return list(list(zip(*sorted(keywords.items(), key=operator.itemgetter(1),reverse=True)))[0][:number_keywords])\n",
    "        "
   ]
  },
  {
   "cell_type": "code",
   "execution_count": 67,
   "metadata": {},
   "outputs": [
    {
     "data": {
      "text/plain": [
       "['cat', 'knife', 'lion', 'dog']"
      ]
     },
     "execution_count": 67,
     "metadata": {},
     "output_type": "execute_result"
    }
   ],
   "source": [
    "keywords_pagerank(text,4,True,2)"
   ]
  },
  {
   "cell_type": "markdown",
   "metadata": {},
   "source": [
    "### visualizacion del subgrafo de keywords"
   ]
  },
  {
   "cell_type": "code",
   "execution_count": 68,
   "metadata": {},
   "outputs": [],
   "source": [
    "def visualization(text,number_keywords,filter_nouns_adj,K):\n",
    "    G=graph_weighted(text,K,filter_nouns_adj)\n",
    "    keywords=nx.pagerank(G, alpha=0.85, weight='weight')\n",
    "    list_keywords=keywords_pagerank(text,number_keywords,filter_nouns_adj,K)\n",
    "    G = G.subgraph(list_keywords)\n",
    "    #G=nx.minimum_spanning_tree(G) ## se podria 'podar' un poco el grafo \n",
    "    pos = nx.spring_layout(G)\n",
    "    labels={i:i for i in G.nodes}\n",
    "    nx.draw_networkx_nodes(G, pos, G.nodes, node_size = [keywords[k] * 10000 for k in G.nodes],node_color='r')\n",
    "    nx.draw_networkx_edges(G, pos, alpha=0.5,width=0.5,edge_color='k')\n",
    "    nx.draw_networkx_labels(G,pos,labels,font_size=12)\n",
    "    plt.axis('off')\n",
    "    #plt.savefig('keywords.eps', format='eps', transparent=True, bbox_inches='tight',dpi=800)\n",
    "    plt.show()"
   ]
  },
  {
   "cell_type": "code",
   "execution_count": 69,
   "metadata": {},
   "outputs": [
    {
     "data": {
      "image/png": "[encoded data removed]",
      "text/plain": [
       "<matplotlib.figure.Figure at 0x7f81299fa2b0>"
      ]
     },
     "metadata": {},
     "output_type": "display_data"
    }
   ],
   "source": [
    "visualization(text,3,True,2)"
   ]
  },
  {
   "cell_type": "markdown",
   "metadata": {},
   "source": [
    "### ejemplo en una intro de CELL"
   ]
  },
  {
   "cell_type": "code",
   "execution_count": 70,
   "metadata": {},
   "outputs": [],
   "source": [
    "data = open('corpus_cell.json','r')\n",
    "data_cell=data.read()\n",
    "data_cell = ast.literal_eval(data_cell)\n",
    "introductions=[' '.join(item['introduction']) for item in data_cell]\n",
    "introductions=[re.sub(\"[\\(\\[].*?[\\)\\]]\", \"\", item) for item in introductions]\n",
    "introductions=[x for x in introductions if len(x)>0]\n",
    "\n",
    "text=introductions[0]"
   ]
  },
  {
   "cell_type": "code",
   "execution_count": 71,
   "metadata": {},
   "outputs": [
    {
     "data": {
      "text/plain": [
       "['virus', 'zika', 'diagnostic', 'sensor', 'detection']"
      ]
     },
     "execution_count": 71,
     "metadata": {},
     "output_type": "execute_result"
    }
   ],
   "source": [
    "keywords_pagerank(text,5,True,4)"
   ]
  },
  {
   "cell_type": "code",
   "execution_count": 73,
   "metadata": {},
   "outputs": [
    {
     "data": {
      "image/png": "[encoded data removed]",
      "text/plain": [
       "<matplotlib.figure.Figure at 0x7f8128e5aa90>"
      ]
     },
     "metadata": {},
     "output_type": "display_data"
    }
   ],
   "source": [
    "visualization(text,15,True,4)"
   ]
  }
 ],
 "metadata": {
  "kernelspec": {
   "display_name": "Python 3",
   "language": "python",
   "name": "python3"
  },
  "language_info": {
   "codemirror_mode": {
    "name": "ipython",
    "version": 3
   },
   "file_extension": ".py",
   "mimetype": "text/x-python",
   "name": "python",
   "nbconvert_exporter": "python",
   "pygments_lexer": "ipython3",
   "version": "3.6.3"
  }
 },
 "nbformat": 4,
 "nbformat_minor": 2
}
