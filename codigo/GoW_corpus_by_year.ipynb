{
 "cells": [
  {
   "cell_type": "markdown",
   "metadata": {},
   "source": [
    "# GoW_corpus_by_year (W+J)"
   ]
  },
  {
   "cell_type": "code",
   "execution_count": 1,
   "metadata": {},
   "outputs": [],
   "source": [
    "import matplotlib.pyplot as plt\n",
    "import networkx as nx\n",
    "import spacy\n",
    "nlp = spacy.load('en')\n",
    "from nltk.corpus import stopwords\n",
    "from nltk import sent_tokenize\n",
    "from nltk import word_tokenize\n",
    "import numpy as np\n",
    "import re\n",
    "import pickle\n",
    "import powerlaw\n",
    "import string\n",
    "import itertools\n",
    "import json\n",
    "import statistics\n",
    "import numpy.linalg as la\n",
    "import scipy.cluster.vq as vq\n",
    "import random\n",
    "from collections import Counter\n",
    "data=open('stopwords.txt','r')\n",
    "data_read = data.read()\n",
    "stop_words=data_read.replace('\\n',' ').split()"
   ]
  },
  {
   "cell_type": "code",
   "execution_count": 2,
   "metadata": {},
   "outputs": [],
   "source": [
    "#########################################################################################################################\n",
    "############################################### progress bar ############################################################\n",
    "#########################################################################################################################\n",
    "################################# https://github.com/alexanderkuk/log-progress ##########################################\n",
    "#########################################################################################################################\n",
    "def log_progress(sequence, every=None, size=None, name='Items'):\n",
    "    from ipywidgets import IntProgress, HTML, VBox\n",
    "    from IPython.display import display\n",
    "\n",
    "    is_iterator = False\n",
    "    if size is None:\n",
    "        try:\n",
    "            size = len(sequence)\n",
    "        except TypeError:\n",
    "            is_iterator = True\n",
    "    if size is not None:\n",
    "        if every is None:\n",
    "            if size <= 200:\n",
    "                every = 1\n",
    "            else:\n",
    "                every = int(size / 200)     # every 0.5%\n",
    "    else:\n",
    "        assert every is not None, 'sequence is iterator, set every'\n",
    "\n",
    "    if is_iterator:\n",
    "        progress = IntProgress(min=0, max=1, value=1)\n",
    "        progress.bar_style = 'info'\n",
    "    else:\n",
    "        progress = IntProgress(min=0, max=size, value=0)\n",
    "    label = HTML()\n",
    "    box = VBox(children=[label, progress])\n",
    "    display(box)\n",
    "\n",
    "    index = 0\n",
    "    try:\n",
    "        for index, record in enumerate(sequence, 1):\n",
    "            if index == 1 or index % every == 0:\n",
    "                if is_iterator:\n",
    "                    label.value = '{name}: {index} / ?'.format(\n",
    "                        name=name,\n",
    "                        index=index\n",
    "                    )\n",
    "                else:\n",
    "                    progress.value = index\n",
    "                    label.value = u'{name}: {index} / {size}'.format(\n",
    "                        name=name,\n",
    "                        index=index,\n",
    "                        size=size\n",
    "                    )\n",
    "            yield record\n",
    "    except:\n",
    "        progress.bar_style = 'danger'\n",
    "        raise\n",
    "    else:\n",
    "        progress.bar_style = 'success'\n",
    "        progress.value = index\n",
    "        label.value = \"{name}: {index}\".format(\n",
    "            name=name,\n",
    "            index=str(index or '?')\n",
    "        )\n",
    "#########################################################################################################################\n",
    "#########################################################################################################################\n",
    "#########################################################################################################################"
   ]
  },
  {
   "cell_type": "markdown",
   "metadata": {},
   "source": [
    "## funcion que limpia los textos"
   ]
  },
  {
   "cell_type": "code",
   "execution_count": null,
   "metadata": {},
   "outputs": [],
   "source": [
    "def clean(text,noun_adj): \n",
    "    text=re.sub(\"[\\(\\[].*?[\\)\\]]\", \"\", text)\n",
    "    text=text.replace('al.','')\n",
    "    sentences=sent_tokenize(text)\n",
    "    sentences=[nlp(sentence.lower()) for sentence in sentences] \n",
    "    \n",
    "    if noun_adj==True:\n",
    "        sentences=[[token.lemma_ for token in sentence if token.tag_=='NN' or token.tag_=='NNS' or token.tag_=='JJ'] for sentence in sentences]\n",
    "    else:\n",
    "        sentences=[[token.lemma_ for token in sentence if token.lemma_ != '-PRON-' and token.is_punct==False and token.like_num==False] for sentence in sentences]\n",
    "\n",
    "    sentences=[[word for word in sentence if not word in stop_words] for sentence in sentences]\n",
    "    sentences=[[(re.sub(r'[^a-zA-Z0-9]', '', word)) for word in sentence] for sentence in sentences]  \n",
    "    sentences=[[word for word in sentence if word.isdigit()==False and word!=''] for sentence in sentences]\n",
    "    sentences=[sentence for sentence in sentences if len(sentence)>1]\n",
    "    \n",
    "    return sentences"
   ]
  },
  {
   "cell_type": "markdown",
   "metadata": {},
   "source": [
    "## ejemplo"
   ]
  },
  {
   "cell_type": "code",
   "execution_count": null,
   "metadata": {},
   "outputs": [],
   "source": [
    "text='Sequencing the Neanderthal genome (Green et al., 2010, Prüfer et al., 2014), the Denisovan genome (Reich et al., 2010), and several early modern human genomes from Eurasia (Fu et al., 2014, Fu et al., 2015) has confirmed that archaic hominins left their mark in the genomes of modern humans (Plagnol and Wall, 2006, Sankararaman et al., 2014, Vernot and Akey, 2014, Vernot et al., 2016). Present-day individuals in Eurasia inherited ∼2% of their genome from Neanderthals (Green et al., 2010), and individuals from Oceania inherited ∼5% of their genome from Denisovans (Reich et al., 2010). Suggestive evidence indicates that admixture from other unidentified hominin species occurred in Africa (Hammer et al., 2011, Hsieh et al., 2016, Lachance et al., 2012, Plagnol and Wall, 2006, Wall et al., 2009). To understand the functional, phenotypic, and evolutionary consequences of archaic admixture, it is necessary to identify the specific haplotypes and alleles that were inherited from archaic hominin ancestors (Huerta-Sánchez et al., 2014, Juric et al., 2016, Sankararaman et al., 2014, Simonti et al., 2016, Vernot and Akey, 2014). Approaches to identifying introgressed haplotypes include methods that specifically incorporate reference archaic hominin genome sequences and reference-free methods that do not utilize such information. An example of the former category is the method of Sankararaman et al. (2014), which identifies archaic haplotypes by comparing modern human haplotypes to a reference archaic sequence. The latter category of methods include the S∗ statistic (Plagnol and Wall, 2006), which searches for the mutational signature that ancient admixture leaves in the genomes of present-day humans. The S∗ approach is powerful for finding introgressed haplotypes in the absence of an archaic reference genome because it leverages the unusual mutational characteristics of introgressed haplotypes. Because of the long divergence time between Neanderthals and modern humans, Neanderthals carry many alleles that are specific to their lineage. Such alleles are present on introgressed haplotypes but are absent or rare in African genomes. Further, based on the recent timing of admixture, introgressed haplotypes are expected to be maintained without recombination over distances of approximately 50 kb on average (Sankararaman et al., 2012), resulting in high levels of linkage disequilibrium (LD) between Neanderthal-specific alleles in non-African human genomes. In this study, we develop an S∗-like method that has increased power and is suitable for large-scale genome-wide data. We apply the method to large sets of sequenced data from Eurasia and Oceania and identify putative archaic-specific alleles. We examine the rate at which these alleles match the sequenced archaic genomes and the role of the genes containing these alleles, to obtain insights into the history of the admixture events and their impact on modern human genomes.'\n",
    "text_clean=clean(text,True)\n",
    "text_clean"
   ]
  },
  {
   "cell_type": "markdown",
   "metadata": {},
   "source": [
    "## grafo de palabras\n",
    "### https://pdfs.semanticscholar.org/6c5f/e85468b488e5d000b62596d89e313906b733.pdf?_ga=2.78701266.738419600.1525701802-2082719092.1515592461"
   ]
  },
  {
   "cell_type": "code",
   "execution_count": null,
   "metadata": {},
   "outputs": [],
   "source": [
    "def graph(text_clean):\n",
    "    G=nx.Graph()\n",
    "    for sentence in text_clean:\n",
    "        unique_words=list(set(sentence))\n",
    "        for word in unique_words:\n",
    "            if word not in G:\n",
    "                G.add_node(word)\n",
    "        pairs=list(itertools.combinations(unique_words,2)) ## sin repeticion!\n",
    "        for pair in pairs:\n",
    "            if G.has_edge(pair[0],pair[1])==False:\n",
    "                G.add_edge(pair[0],pair[1],weight=1/float(len(unique_words)-1))\n",
    "            else:\n",
    "                x=G[pair[0]][pair[1]]['weight']\n",
    "                G[pair[0]][pair[1]]['weight']=x+1/float(len(unique_words)-1)  \n",
    "        \n",
    "    return G"
   ]
  },
  {
   "cell_type": "code",
   "execution_count": null,
   "metadata": {},
   "outputs": [],
   "source": [
    "G=graph(text_clean)"
   ]
  },
  {
   "cell_type": "code",
   "execution_count": null,
   "metadata": {},
   "outputs": [],
   "source": [
    "G"
   ]
  },
  {
   "cell_type": "markdown",
   "metadata": {},
   "source": [
    "## experimento corpus introducciones CELL + NEURON"
   ]
  },
  {
   "cell_type": "code",
   "execution_count": null,
   "metadata": {},
   "outputs": [],
   "source": [
    "data_cell = json.load(open('cell_full_xml.json'))\n",
    "data_neuron =  json.load(open('neuron_full_xml.json'))\n",
    "data_cell_metabolism= json.load(open('cell_metabolism_full_xml.json'))\n",
    "data_immunity= json.load(open('immunity_full_xml.json'))\n",
    "#data_cell=data_cell+data_neuron+data_cell_metabolism+data_immunity\n",
    "\n",
    "def paragraphs(paper):\n",
    "    text=[]\n",
    "    if len(paper['subsections'])==0:\n",
    "        return ' '.join(paper['paragraphs'])\n",
    "\n",
    "def extract_intro(paper):\n",
    "    return paper['sections'][0]\n",
    "\n",
    "cell=[paragraphs(extract_intro(data_cell[i])) for i in range(len(data_cell)) if len(data_cell[i]['sections'])>1]\n",
    "cell=[paper for paper in cell if type(paper)!='NoneType']\n",
    "\n",
    "neuron=[paragraphs(extract_intro(data_neuron[i])) for i in range(len(data_neuron)) if len(data_neuron[i]['sections'])>1]\n",
    "neuron=[paper for paper in neuron if type(paper)!='NoneType']"
   ]
  },
  {
   "cell_type": "markdown",
   "metadata": {},
   "source": [
    "## corpus by year!"
   ]
  },
  {
   "cell_type": "markdown",
   "metadata": {},
   "source": [
    "### cell "
   ]
  },
  {
   "cell_type": "code",
   "execution_count": null,
   "metadata": {},
   "outputs": [],
   "source": [
    "dois=[data_cell[i]['doi'][19:23] for i in range(len(data_cell))]\n",
    "keys_doi=list(set(dois))\n",
    "keys_doi=[k for k in keys_doi if k!='2009' and k!='2017']"
   ]
  },
  {
   "cell_type": "code",
   "execution_count": null,
   "metadata": {},
   "outputs": [],
   "source": [
    "doi_dict={}\n",
    "for key in keys_doi:\n",
    "    doi_dict[key]=[]"
   ]
  },
  {
   "cell_type": "code",
   "execution_count": null,
   "metadata": {},
   "outputs": [],
   "source": [
    "for i in range(len(data_cell)):\n",
    "    for key in keys_doi:\n",
    "        if data_cell[i]['doi'][19:23]==key:\n",
    "            if len(data_cell[i]['sections'])>0:\n",
    "                paper=paragraphs(extract_intro(data_cell[i]))\n",
    "                if type(paper)!='NoneType':\n",
    "                    doi_dict[key]+=[paper]"
   ]
  },
  {
   "cell_type": "code",
   "execution_count": null,
   "metadata": {},
   "outputs": [],
   "source": [
    "suma=0\n",
    "for key in keys_doi:\n",
    "    print(key,len(doi_dict[key]))\n",
    "    suma+=len(doi_dict[key])\n",
    "print(suma)"
   ]
  },
  {
   "cell_type": "markdown",
   "metadata": {},
   "source": [
    "### neuron"
   ]
  },
  {
   "cell_type": "code",
   "execution_count": null,
   "metadata": {},
   "outputs": [],
   "source": [
    "dois_neuron=[data_neuron[i]['doi'][21:25] for i in range(len(data_neuron))]\n",
    "keys_doi_neuron=list(set(dois_neuron))\n",
    "keys_doi_neuron=[k for k in keys_doi_neuron if k!='2009' and k!='2017']"
   ]
  },
  {
   "cell_type": "code",
   "execution_count": null,
   "metadata": {},
   "outputs": [],
   "source": [
    "doi_dict_neuron={}\n",
    "for key in keys_doi_neuron:\n",
    "    doi_dict_neuron[key]=[]"
   ]
  },
  {
   "cell_type": "code",
   "execution_count": null,
   "metadata": {},
   "outputs": [],
   "source": [
    "for i in range(len(data_neuron)):\n",
    "    for key in keys_doi_neuron:\n",
    "        if data_neuron[i]['doi'][21:25]==key:\n",
    "            if len(data_neuron[i]['sections'])>0:\n",
    "                paper=paragraphs(extract_intro(data_neuron[i]))\n",
    "                if type(paper)!='NoneType':\n",
    "                    doi_dict_neuron[key]+=[paper]"
   ]
  },
  {
   "cell_type": "code",
   "execution_count": null,
   "metadata": {},
   "outputs": [],
   "source": [
    "suma=0\n",
    "for key in keys_doi_neuron:\n",
    "    print(key,len(doi_dict_neuron[key]))\n",
    "    suma+=len(doi_dict_neuron[key])\n",
    "print(suma)"
   ]
  },
  {
   "cell_type": "markdown",
   "metadata": {},
   "source": [
    "## clean a los documentos de los diccionarios de cell y neuron"
   ]
  },
  {
   "cell_type": "markdown",
   "metadata": {},
   "source": [
    "### cell"
   ]
  },
  {
   "cell_type": "code",
   "execution_count": null,
   "metadata": {},
   "outputs": [],
   "source": [
    "text_cell={}\n",
    "for key in keys_doi:\n",
    "    text_cell[key]=[]"
   ]
  },
  {
   "cell_type": "code",
   "execution_count": null,
   "metadata": {},
   "outputs": [],
   "source": [
    "for key in log_progress(keys_doi, every=1):\n",
    "    for text in doi_dict[key]:\n",
    "        try:\n",
    "            text_cell[key]+=clean(text,True)\n",
    "        except TypeError:\n",
    "            pass"
   ]
  },
  {
   "cell_type": "code",
   "execution_count": null,
   "metadata": {},
   "outputs": [],
   "source": [
    "for key in keys_doi:\n",
    "    text_cell[key]=[text for text in text_cell[key] if len(text)>1]"
   ]
  },
  {
   "cell_type": "code",
   "execution_count": null,
   "metadata": {},
   "outputs": [],
   "source": [
    "for key in keys_doi:\n",
    "    print(key,len(text_cell[key]))"
   ]
  },
  {
   "cell_type": "markdown",
   "metadata": {},
   "source": [
    "### neuron"
   ]
  },
  {
   "cell_type": "code",
   "execution_count": null,
   "metadata": {},
   "outputs": [],
   "source": [
    "text_neuron={}\n",
    "for key in keys_doi_neuron:\n",
    "    text_neuron[key]=[]"
   ]
  },
  {
   "cell_type": "code",
   "execution_count": null,
   "metadata": {},
   "outputs": [],
   "source": [
    "for key in log_progress(keys_doi_neuron, every=1):\n",
    "    for text in doi_dict_neuron[key]:\n",
    "        try:\n",
    "            text_neuron[key]+=clean(text,True)\n",
    "        except TypeError:\n",
    "            pass"
   ]
  },
  {
   "cell_type": "code",
   "execution_count": null,
   "metadata": {},
   "outputs": [],
   "source": [
    "for key in keys_doi_neuron:\n",
    "    text_neuron[key]=[text for text in text_neuron[key] if len(text)>1]"
   ]
  },
  {
   "cell_type": "code",
   "execution_count": null,
   "metadata": {},
   "outputs": [],
   "source": [
    "for key in keys_doi_neuron:\n",
    "    print(key,len(text_neuron[key]))"
   ]
  },
  {
   "cell_type": "markdown",
   "metadata": {},
   "source": [
    "## grafos by year para cada revista"
   ]
  },
  {
   "cell_type": "markdown",
   "metadata": {},
   "source": [
    "### cell"
   ]
  },
  {
   "cell_type": "code",
   "execution_count": null,
   "metadata": {},
   "outputs": [],
   "source": [
    "graphs={}\n",
    "for key in log_progress(keys_doi, every=1):\n",
    "    graphs[key]=graph(text_cell[key])"
   ]
  },
  {
   "cell_type": "code",
   "execution_count": null,
   "metadata": {},
   "outputs": [],
   "source": [
    "pickle.dump(graphs,open( 'graphs_cell.p', 'wb' ) )"
   ]
  },
  {
   "cell_type": "code",
   "execution_count": null,
   "metadata": {},
   "outputs": [],
   "source": [
    "##########################################################################################################################"
   ]
  },
  {
   "cell_type": "code",
   "execution_count": 3,
   "metadata": {},
   "outputs": [],
   "source": [
    "keys_doi=['2010','2011','2012','2013','2014','2015','2016']"
   ]
  },
  {
   "cell_type": "code",
   "execution_count": 4,
   "metadata": {},
   "outputs": [],
   "source": [
    "graphs = pickle.load(open( 'graphs_cell.p', 'rb' ) )"
   ]
  },
  {
   "cell_type": "code",
   "execution_count": 5,
   "metadata": {},
   "outputs": [
    {
     "name": "stdout",
     "output_type": "stream",
     "text": [
      "2010\n",
      "nodes: 6567\n",
      "edges: 187559\n",
      "average degree: 7.674889599512717\n",
      "max degree: 951.0000000000055\n",
      "max core number: 97\n",
      "main core size: 249\n",
      "2011\n",
      "nodes: 7103\n",
      "edges: 221887\n",
      "average degree: 8.305504716317047\n",
      "max degree: 1126.9999999999973\n",
      "max core number: 110\n",
      "main core size: 297\n",
      "2012\n",
      "nodes: 8096\n",
      "edges: 277817\n",
      "average degree: 9.574851778656122\n",
      "max degree: 1435.9999999999638\n",
      "max core number: 132\n",
      "main core size: 328\n",
      "2013\n",
      "nodes: 8024\n",
      "edges: 264346\n",
      "average degree: 9.090603190428709\n",
      "max degree: 1308.999999999975\n",
      "max core number: 123\n",
      "main core size: 336\n",
      "2014\n",
      "nodes: 8146\n",
      "edges: 282394\n",
      "average degree: 9.391112202307871\n",
      "max degree: 1496.9999999999673\n",
      "max core number: 129\n",
      "main core size: 347\n",
      "2015\n",
      "nodes: 8539\n",
      "edges: 302790\n",
      "average degree: 9.448998711792942\n",
      "max degree: 1515.999999999974\n",
      "max core number: 132\n",
      "main core size: 431\n",
      "2016\n",
      "nodes: 7801\n",
      "edges: 266902\n",
      "average degree: 8.94923727727214\n",
      "max degree: 1381.9999999999766\n",
      "max core number: 126\n",
      "main core size: 373\n"
     ]
    }
   ],
   "source": [
    "for key in keys_doi:\n",
    "    G=graphs[key]\n",
    "    print(key)\n",
    "    print('nodes: '+str(len(G.nodes)))\n",
    "    print('edges: '+str(len(G.edges)))\n",
    "    print('average degree: '+str(sum(dict(nx.degree(G,weight='weight')).values())/float(len(G.nodes))))\n",
    "    print('max degree: '+str(max(dict(nx.degree(G,weight='weight')).values())))\n",
    "    core_number=nx.core_number(G)\n",
    "    print('max core number: '+str(max(core_number.values())))\n",
    "    main_core=nx.k_core(G)\n",
    "    print('main core size: '+str(len(main_core)))"
   ]
  },
  {
   "cell_type": "markdown",
   "metadata": {},
   "source": [
    "### neuron"
   ]
  },
  {
   "cell_type": "code",
   "execution_count": null,
   "metadata": {},
   "outputs": [],
   "source": [
    "graphs_neuron={}\n",
    "for key in log_progress(keys_doi_neuron, every=1):\n",
    "    graphs_neuron[key]=graph(text_neuron[key])"
   ]
  },
  {
   "cell_type": "code",
   "execution_count": null,
   "metadata": {},
   "outputs": [],
   "source": [
    "pickle.dump(graphs_neuron,open( 'graphs_neuron.p', 'wb' ) )"
   ]
  },
  {
   "cell_type": "code",
   "execution_count": null,
   "metadata": {},
   "outputs": [],
   "source": [
    "#########################################################################################################################"
   ]
  },
  {
   "cell_type": "code",
   "execution_count": 5,
   "metadata": {},
   "outputs": [],
   "source": [
    "keys_doi_neuron=['2010','2011','2012','2013','2014','2015','2016']"
   ]
  },
  {
   "cell_type": "code",
   "execution_count": 6,
   "metadata": {},
   "outputs": [],
   "source": [
    "graphs_neuron = pickle.load(open( 'graphs_neuron.p', 'rb' ) )"
   ]
  },
  {
   "cell_type": "code",
   "execution_count": 8,
   "metadata": {},
   "outputs": [
    {
     "name": "stdout",
     "output_type": "stream",
     "text": [
      "2010\n",
      "nodes: 4704\n",
      "edges: 154225\n",
      "average degree 8.494472789115646\n",
      "max degree 649.0000000000018\n",
      "max core number 102\n",
      "main core size: 219\n",
      "2011\n",
      "nodes: 5973\n",
      "edges: 217627\n",
      "average degree 10.061443160890674\n",
      "max degree 1012.000000000005\n",
      "max core number 123\n",
      "main core size: 289\n",
      "2012\n",
      "nodes: 5541\n",
      "edges: 195364\n",
      "average degree 9.436022378632012\n",
      "max degree 669.0000000000011\n",
      "max core number 116\n",
      "main core size: 278\n",
      "2013\n",
      "nodes: 5869\n",
      "edges: 202962\n",
      "average degree 9.625830635542682\n",
      "max degree 898.0000000000041\n",
      "max core number 117\n",
      "main core size: 287\n",
      "2014\n",
      "nodes: 6129\n",
      "edges: 225788\n",
      "average degree 10.173274596182084\n",
      "max degree 880.0000000000008\n",
      "max core number 124\n",
      "main core size: 372\n",
      "2015\n",
      "nodes: 5418\n",
      "edges: 197626\n",
      "average degree 10.137135474344774\n",
      "max degree 862.0000000000052\n",
      "max core number 121\n",
      "main core size: 292\n",
      "2016\n",
      "nodes: 5945\n",
      "edges: 228288\n",
      "average degree 10.585029436501259\n",
      "max degree 976.0000000000026\n",
      "max core number 128\n",
      "main core size: 352\n"
     ]
    }
   ],
   "source": [
    "for key in keys_doi_neuron:\n",
    "    G=graphs_neuron[key]\n",
    "    print(key)\n",
    "    print('nodes: '+str(len(G.nodes)))\n",
    "    print('edges: '+str(len(G.edges)))\n",
    "    print('average degree '+str(sum(dict(nx.degree(G,weight='weight')).values())/float(len(G.nodes))))\n",
    "    print('max degree '+str(max(dict(nx.degree(G,weight='weight')).values())))\n",
    "    core_number=nx.core_number(G)\n",
    "    print('max core number '+str(max(core_number.values())))\n",
    "    main_core=nx.k_core(G)\n",
    "    print('main core size: '+str(len(main_core)))"
   ]
  },
  {
   "cell_type": "markdown",
   "metadata": {},
   "source": [
    "## k core decomposition by year"
   ]
  },
  {
   "cell_type": "markdown",
   "metadata": {},
   "source": [
    "### cell"
   ]
  },
  {
   "cell_type": "code",
   "execution_count": 9,
   "metadata": {},
   "outputs": [
    {
     "data": {
      "application/vnd.jupyter.widget-view+json": {
       "model_id": "e99a8b6c573444958cfc384ce370a42a",
       "version_major": 2,
       "version_minor": 0
      },
      "text/plain": [
       "A Jupyter Widget"
      ]
     },
     "metadata": {},
     "output_type": "display_data"
    }
   ],
   "source": [
    "k_core_decomposition={}\n",
    "for key in keys_doi:\n",
    "    k_core_decomposition[key]=[]\n",
    "    \n",
    "for key in log_progress(keys_doi, every=1):\n",
    "    G=graphs[key]\n",
    "    core_numbers=list(set(nx.core_number(G).values()))\n",
    "    m=len(core_numbers)\n",
    "    K=[1]\n",
    "    for i in range(5):\n",
    "        K+=[core_numbers[m-i*15-1]]\n",
    "    K=sorted(K)\n",
    "    for k in K: ## elegimos 6!\n",
    "        k_core_decomposition[key]+=[(k,nx.k_core(G,k=k))]"
   ]
  },
  {
   "cell_type": "code",
   "execution_count": 10,
   "metadata": {},
   "outputs": [
    {
     "data": {
      "text/plain": [
       "[(1, <networkx.classes.graph.Graph at 0x7f75af21a780>),\n",
       " (66, <networkx.classes.graph.Graph at 0x7f75af21a550>),\n",
       " (81, <networkx.classes.graph.Graph at 0x7f75af21a198>),\n",
       " (96, <networkx.classes.graph.Graph at 0x7f75af21a3c8>),\n",
       " (111, <networkx.classes.graph.Graph at 0x7f75a6727c50>),\n",
       " (126, <networkx.classes.graph.Graph at 0x7f75af21a080>)]"
      ]
     },
     "execution_count": 10,
     "metadata": {},
     "output_type": "execute_result"
    }
   ],
   "source": [
    "k_core_decomposition['2016']"
   ]
  },
  {
   "cell_type": "markdown",
   "metadata": {},
   "source": [
    "### neuron"
   ]
  },
  {
   "cell_type": "code",
   "execution_count": 11,
   "metadata": {},
   "outputs": [
    {
     "data": {
      "application/vnd.jupyter.widget-view+json": {
       "model_id": "c1a4fa92d18b4506a447e8a66b257873",
       "version_major": 2,
       "version_minor": 0
      },
      "text/plain": [
       "A Jupyter Widget"
      ]
     },
     "metadata": {},
     "output_type": "display_data"
    }
   ],
   "source": [
    "k_core_decomposition_neuron={}\n",
    "for key in keys_doi_neuron:\n",
    "    k_core_decomposition_neuron[key]=[]\n",
    "    \n",
    "for key in log_progress(keys_doi_neuron, every=1):\n",
    "    G=graphs_neuron[key]\n",
    "    core_numbers=list(set(nx.core_number(G).values()))\n",
    "    m=len(core_numbers)\n",
    "    K=[1]\n",
    "    for i in range(5):\n",
    "        K+=[core_numbers[m-i*15-1]]\n",
    "    K=sorted(K)\n",
    "    for k in K: \n",
    "        k_core_decomposition_neuron[key]+=[(k,nx.k_core(G,k=k))]"
   ]
  },
  {
   "cell_type": "code",
   "execution_count": 12,
   "metadata": {},
   "outputs": [
    {
     "data": {
      "text/plain": [
       "[(1, <networkx.classes.graph.Graph at 0x7f75563b9898>),\n",
       " (68, <networkx.classes.graph.Graph at 0x7f75563b9ac8>),\n",
       " (83, <networkx.classes.graph.Graph at 0x7f75563b98d0>),\n",
       " (98, <networkx.classes.graph.Graph at 0x7f75563b9b38>),\n",
       " (113, <networkx.classes.graph.Graph at 0x7f75563b9e80>),\n",
       " (128, <networkx.classes.graph.Graph at 0x7f75563b9b00>)]"
      ]
     },
     "execution_count": 12,
     "metadata": {},
     "output_type": "execute_result"
    }
   ],
   "source": [
    "k_core_decomposition_neuron['2016']"
   ]
  },
  {
   "cell_type": "markdown",
   "metadata": {},
   "source": [
    "## degree distribution para distintos k core"
   ]
  },
  {
   "cell_type": "markdown",
   "metadata": {},
   "source": [
    "### cell"
   ]
  },
  {
   "cell_type": "code",
   "execution_count": 13,
   "metadata": {},
   "outputs": [
    {
     "data": {
      "application/vnd.jupyter.widget-view+json": {
       "model_id": "506aa45101c14525b2de8709dc98f7a5",
       "version_major": 2,
       "version_minor": 0
      },
      "text/plain": [
       "A Jupyter Widget"
      ]
     },
     "metadata": {},
     "output_type": "display_data"
    }
   ],
   "source": [
    "degree_sequence={}\n",
    "for key in keys_doi:\n",
    "    degree_sequence[key]=[]\n",
    "\n",
    "for key in log_progress(keys_doi,every=1):\n",
    "    degree=[]\n",
    "    for graph in list(zip(*k_core_decomposition[key]))[1]:\n",
    "        d=list(dict(nx.degree(graph,weight='weight')).values())\n",
    "        d=[x/float(np.mean(d)) for x in sorted(d)]\n",
    "        degree+=[(d,[x/float(max(np.cumsum(d))) for x in sorted(list(np.cumsum(d)),reverse=True)])]\n",
    "    degree_sequence[key]=degree\n"
   ]
  },
  {
   "cell_type": "code",
   "execution_count": 14,
   "metadata": {},
   "outputs": [],
   "source": [
    "labels=sorted(list(zip(*k_core_decomposition['2016']))[0])"
   ]
  },
  {
   "cell_type": "code",
   "execution_count": 15,
   "metadata": {},
   "outputs": [
    {
     "data": {
      "image/png": "[encoded data removed]",
      "text/plain": [
       "<matplotlib.figure.Figure at 0x7f75298c34e0>"
      ]
     },
     "metadata": {},
     "output_type": "display_data"
    }
   ],
   "source": [
    "plt.plot(degree_sequence['2016'][0][0],degree_sequence['2016'][0][1],'m',marker='x',markersize=5,fillstyle='none',markeredgewidth=1,clip_on=False,linewidth=0,label=r'$k=$'+str(labels[0]))\n",
    "plt.plot(degree_sequence['2016'][1][0],degree_sequence['2016'][1][1],'r',marker='o',markersize=5,fillstyle='none',markeredgewidth=1,clip_on=False,linewidth=0,label=r'$k=$'+str(labels[1]))\n",
    "plt.plot(degree_sequence['2016'][2][0],degree_sequence['2016'][2][1],'k',marker='D',markersize=5,fillstyle='none',markeredgewidth=1,clip_on=False,linewidth=0,label=r'$k=$'+str(labels[2]))\n",
    "plt.plot(degree_sequence['2016'][3][0],degree_sequence['2016'][3][1],'orange',marker='+',markersize=5,fillstyle='none',markeredgewidth=1,clip_on=False,linewidth=0,label=r'$k=$'+str(labels[3]))\n",
    "plt.plot(degree_sequence['2016'][4][0],degree_sequence['2016'][4][1],'b',marker='s',markersize=5,fillstyle='none',markeredgewidth=1,clip_on=False,linewidth=0,label=r'$k=$'+str(labels[4]))\n",
    "plt.plot(degree_sequence['2016'][5][0],degree_sequence['2016'][5][1],'green',marker='d',markersize=5,fillstyle='none',markeredgewidth=0.5,clip_on=False,linewidth=0,label=r'$k_{max}=$'+str(labels[5]))\n",
    "\n",
    "plt.title('2016')\n",
    "plt.xscale('log')\n",
    "plt.yscale('log')\n",
    "plt.legend(loc='best')\n",
    "plt.ylabel(r'$P(d)$',fontsize=20)\n",
    "plt.xlabel(r'$d/ \\langle d \\rangle$',fontsize=20)\n",
    "plt.rcParams.update({'font.size': 10})\n",
    "plt.savefig('degree_distribution_2016.eps', format='eps', transparent=True, bbox_inches='tight',dpi=800)\n",
    "plt.show()"
   ]
  },
  {
   "cell_type": "code",
   "execution_count": 16,
   "metadata": {},
   "outputs": [],
   "source": [
    "labels=sorted(list(zip(*k_core_decomposition['2013']))[0])"
   ]
  },
  {
   "cell_type": "code",
   "execution_count": 17,
   "metadata": {},
   "outputs": [
    {
     "data": {
      "image/png": "[encoded data removed]",
      "text/plain": [
       "<matplotlib.figure.Figure at 0x7f75271c65f8>"
      ]
     },
     "metadata": {},
     "output_type": "display_data"
    }
   ],
   "source": [
    "plt.plot(degree_sequence['2013'][0][0],degree_sequence['2013'][0][1],'m',marker='x',markersize=5,fillstyle='none',markeredgewidth=1,clip_on=False,linewidth=0,label=r'$k=$'+str(labels[0]))\n",
    "plt.plot(degree_sequence['2013'][1][0],degree_sequence['2013'][1][1],'r',marker='o',markersize=5,fillstyle='none',markeredgewidth=1,clip_on=False,linewidth=0,label=r'$k=$'+str(labels[1]))\n",
    "plt.plot(degree_sequence['2013'][2][0],degree_sequence['2013'][2][1],'k',marker='D',markersize=5,fillstyle='none',markeredgewidth=1,clip_on=False,linewidth=0,label=r'$k=$'+str(labels[2]))\n",
    "plt.plot(degree_sequence['2013'][3][0],degree_sequence['2013'][3][1],'orange',marker='+',markersize=5,fillstyle='none',markeredgewidth=1,clip_on=False,linewidth=0,label=r'$k=$'+str(labels[3]))\n",
    "plt.plot(degree_sequence['2013'][4][0],degree_sequence['2013'][4][1],'b',marker='s',markersize=5,fillstyle='none',markeredgewidth=1,clip_on=False,linewidth=0,label=r'$k=$'+str(labels[4]))\n",
    "plt.plot(degree_sequence['2013'][5][0],degree_sequence['2013'][5][1],'green',marker='d',markersize=5,fillstyle='none',markeredgewidth=0.5,clip_on=False,linewidth=0,label=r'$k_{max}=$'+str(labels[5]))\n",
    "\n",
    "plt.title('2013')\n",
    "plt.xscale('log')\n",
    "plt.yscale('log')\n",
    "plt.legend(loc='best')\n",
    "plt.ylabel(r'$P(d)$',fontsize=20)\n",
    "plt.xlabel(r'$d/ \\langle d \\rangle$',fontsize=20)\n",
    "plt.rcParams.update({'font.size': 10})\n",
    "plt.savefig('degree_distribution_2013.eps', format='eps', transparent=True, bbox_inches='tight',dpi=800)\n",
    "plt.show()"
   ]
  },
  {
   "cell_type": "code",
   "execution_count": 18,
   "metadata": {},
   "outputs": [],
   "source": [
    "labels=sorted(list(zip(*k_core_decomposition['2010']))[0])"
   ]
  },
  {
   "cell_type": "code",
   "execution_count": 19,
   "metadata": {},
   "outputs": [
    {
     "data": {
      "image/png": "[encoded data removed]",
      "text/plain": [
       "<matplotlib.figure.Figure at 0x7f7526f296d8>"
      ]
     },
     "metadata": {},
     "output_type": "display_data"
    }
   ],
   "source": [
    "plt.plot(degree_sequence['2010'][0][0],degree_sequence['2010'][0][1],'m',marker='x',markersize=5,fillstyle='none',markeredgewidth=1,clip_on=False,linewidth=0,label=r'$k=$'+str(labels[0]))\n",
    "plt.plot(degree_sequence['2010'][1][0],degree_sequence['2010'][1][1],'r',marker='o',markersize=5,fillstyle='none',markeredgewidth=1,clip_on=False,linewidth=0,label=r'$k=$'+str(labels[1]))\n",
    "plt.plot(degree_sequence['2010'][2][0],degree_sequence['2010'][2][1],'k',marker='D',markersize=5,fillstyle='none',markeredgewidth=1,clip_on=False,linewidth=0,label=r'$k=$'+str(labels[2]))\n",
    "plt.plot(degree_sequence['2010'][3][0],degree_sequence['2010'][3][1],'orange',marker='+',markersize=5,fillstyle='none',markeredgewidth=1,clip_on=False,linewidth=0,label=r'$k=$'+str(labels[3]))\n",
    "plt.plot(degree_sequence['2010'][4][0],degree_sequence['2010'][4][1],'b',marker='s',markersize=5,fillstyle='none',markeredgewidth=1,clip_on=False,linewidth=0,label=r'$k=$'+str(labels[4]))\n",
    "plt.plot(degree_sequence['2010'][5][0],degree_sequence['2010'][5][1],'green',marker='d',markersize=5,fillstyle='none',markeredgewidth=0.5,clip_on=False,linewidth=0,label=r'$k_{max}=$'+str(labels[5]))\n",
    "\n",
    "plt.title('2010')\n",
    "plt.xscale('log')\n",
    "plt.yscale('log')\n",
    "plt.legend(loc='best')\n",
    "plt.ylabel(r'$P(d)$',fontsize=20)\n",
    "plt.xlabel(r'$d/ \\langle d \\rangle$',fontsize=20)\n",
    "plt.rcParams.update({'font.size': 10})\n",
    "plt.savefig('degree_distribution_2010.eps', format='eps', transparent=True, bbox_inches='tight',dpi=800)\n",
    "plt.show()"
   ]
  },
  {
   "cell_type": "markdown",
   "metadata": {},
   "source": [
    "### neuron"
   ]
  },
  {
   "cell_type": "code",
   "execution_count": 20,
   "metadata": {},
   "outputs": [
    {
     "data": {
      "application/vnd.jupyter.widget-view+json": {
       "model_id": "f8544a0a83124f3bbe366a4548378419",
       "version_major": 2,
       "version_minor": 0
      },
      "text/plain": [
       "A Jupyter Widget"
      ]
     },
     "metadata": {},
     "output_type": "display_data"
    }
   ],
   "source": [
    "degree_sequence_neuron={}\n",
    "for key in keys_doi_neuron:\n",
    "    degree_sequence_neuron[key]=[]\n",
    "\n",
    "for key in log_progress(keys_doi_neuron,every=1):\n",
    "    degree_neuron=[]\n",
    "    for graph in list(zip(*k_core_decomposition_neuron[key]))[1]:\n",
    "        d=list(dict(nx.degree(graph,weight='weight')).values())\n",
    "        d=[x/float(np.mean(d)) for x in sorted(d)]\n",
    "        degree_neuron+=[(d,[x/float(max(np.cumsum(d))) for x in sorted(list(np.cumsum(d)),reverse=True)])]\n",
    "    degree_sequence_neuron[key]=degree_neuron"
   ]
  },
  {
   "cell_type": "code",
   "execution_count": 21,
   "metadata": {},
   "outputs": [],
   "source": [
    "labels=sorted(list(zip(*k_core_decomposition_neuron['2016']))[0])"
   ]
  },
  {
   "cell_type": "code",
   "execution_count": 22,
   "metadata": {},
   "outputs": [
    {
     "data": {
      "image/png": "[encoded data removed]",
      "text/plain": [
       "<matplotlib.figure.Figure at 0x7f75268b4b00>"
      ]
     },
     "metadata": {},
     "output_type": "display_data"
    }
   ],
   "source": [
    "plt.plot(degree_sequence_neuron['2016'][0][0],degree_sequence_neuron['2016'][0][1],'m',marker='x',markersize=5,fillstyle='none',markeredgewidth=1,clip_on=False,linewidth=0,label=r'$k=$'+str(labels[0]))\n",
    "plt.plot(degree_sequence_neuron['2016'][1][0],degree_sequence_neuron['2016'][1][1],'r',marker='o',markersize=5,fillstyle='none',markeredgewidth=1,clip_on=False,linewidth=0,label=r'$k=$'+str(labels[1]))\n",
    "plt.plot(degree_sequence_neuron['2016'][2][0],degree_sequence_neuron['2016'][2][1],'k',marker='D',markersize=5,fillstyle='none',markeredgewidth=1,clip_on=False,linewidth=0,label=r'$k=$'+str(labels[2]))\n",
    "plt.plot(degree_sequence_neuron['2016'][3][0],degree_sequence_neuron['2016'][3][1],'orange',marker='+',markersize=5,fillstyle='none',markeredgewidth=1,clip_on=False,linewidth=0,label=r'$k=$'+str(labels[3]))\n",
    "plt.plot(degree_sequence_neuron['2016'][4][0],degree_sequence_neuron['2016'][4][1],'b',marker='s',markersize=5,fillstyle='none',markeredgewidth=1,clip_on=False,linewidth=0,label=r'$k=$'+str(labels[4]))\n",
    "plt.plot(degree_sequence_neuron['2016'][5][0],degree_sequence_neuron['2016'][5][1],'green',marker='d',markersize=5,fillstyle='none',markeredgewidth=0.5,clip_on=False,linewidth=0,label=r'$k_{max}=$'+str(labels[5]))\n",
    "\n",
    "plt.title('2016')\n",
    "plt.xscale('log')\n",
    "plt.yscale('log')\n",
    "plt.legend(loc='best')\n",
    "plt.ylabel(r'$P(d)$',fontsize=20)\n",
    "plt.xlabel(r'$d/ \\langle d \\rangle$',fontsize=20)\n",
    "plt.rcParams.update({'font.size': 10})\n",
    "plt.savefig('degree_distribution_neuron_2016.eps', format='eps', transparent=True, bbox_inches='tight',dpi=800)\n",
    "plt.show()"
   ]
  },
  {
   "cell_type": "code",
   "execution_count": 23,
   "metadata": {},
   "outputs": [],
   "source": [
    "labels=sorted(list(zip(*k_core_decomposition_neuron['2013']))[0])"
   ]
  },
  {
   "cell_type": "code",
   "execution_count": 24,
   "metadata": {},
   "outputs": [
    {
     "data": {
      "image/png": "[encoded data removed]",
      "text/plain": [
       "<matplotlib.figure.Figure at 0x7f7526eb2198>"
      ]
     },
     "metadata": {},
     "output_type": "display_data"
    }
   ],
   "source": [
    "plt.plot(degree_sequence_neuron['2013'][0][0],degree_sequence_neuron['2013'][0][1],'m',marker='x',markersize=5,fillstyle='none',markeredgewidth=1,clip_on=False,linewidth=0,label=r'$k=$'+str(labels[0]))\n",
    "plt.plot(degree_sequence_neuron['2013'][1][0],degree_sequence_neuron['2013'][1][1],'r',marker='o',markersize=5,fillstyle='none',markeredgewidth=1,clip_on=False,linewidth=0,label=r'$k=$'+str(labels[1]))\n",
    "plt.plot(degree_sequence_neuron['2013'][2][0],degree_sequence_neuron['2013'][2][1],'k',marker='D',markersize=5,fillstyle='none',markeredgewidth=1,clip_on=False,linewidth=0,label=r'$k=$'+str(labels[2]))\n",
    "plt.plot(degree_sequence_neuron['2013'][3][0],degree_sequence_neuron['2013'][3][1],'orange',marker='+',markersize=5,fillstyle='none',markeredgewidth=1,clip_on=False,linewidth=0,label=r'$k=$'+str(labels[3]))\n",
    "plt.plot(degree_sequence_neuron['2013'][4][0],degree_sequence_neuron['2013'][4][1],'b',marker='s',markersize=5,fillstyle='none',markeredgewidth=1,clip_on=False,linewidth=0,label=r'$k=$'+str(labels[4]))\n",
    "plt.plot(degree_sequence_neuron['2013'][5][0],degree_sequence_neuron['2013'][5][1],'green',marker='d',markersize=5,fillstyle='none',markeredgewidth=0.5,clip_on=False,linewidth=0,label=r'$k_{max}=$'+str(labels[5]))\n",
    "\n",
    "plt.title('2013')\n",
    "plt.xscale('log')\n",
    "plt.yscale('log')\n",
    "plt.legend(loc='best')\n",
    "plt.ylabel(r'$P(d)$',fontsize=20)\n",
    "plt.xlabel(r'$d/ \\langle d \\rangle$',fontsize=20)\n",
    "plt.rcParams.update({'font.size': 10})\n",
    "plt.savefig('degree_distribution_neuron_2013.eps', format='eps', transparent=True, bbox_inches='tight',dpi=800)\n",
    "plt.show()"
   ]
  },
  {
   "cell_type": "code",
   "execution_count": 25,
   "metadata": {},
   "outputs": [],
   "source": [
    "labels=sorted(list(zip(*k_core_decomposition_neuron['2010']))[0])"
   ]
  },
  {
   "cell_type": "code",
   "execution_count": 26,
   "metadata": {},
   "outputs": [
    {
     "data": {
      "image/png": "[encoded data removed]",
      "text/plain": [
       "<matplotlib.figure.Figure at 0x7f7526f1dba8>"
      ]
     },
     "metadata": {},
     "output_type": "display_data"
    }
   ],
   "source": [
    "plt.plot(degree_sequence_neuron['2010'][0][0],degree_sequence_neuron['2010'][0][1],'m',marker='x',markersize=5,fillstyle='none',markeredgewidth=1,clip_on=False,linewidth=0,label=r'$k=$'+str(labels[0]))\n",
    "plt.plot(degree_sequence_neuron['2010'][1][0],degree_sequence_neuron['2010'][1][1],'r',marker='o',markersize=5,fillstyle='none',markeredgewidth=1,clip_on=False,linewidth=0,label=r'$k=$'+str(labels[1]))\n",
    "plt.plot(degree_sequence_neuron['2010'][2][0],degree_sequence_neuron['2010'][2][1],'k',marker='D',markersize=5,fillstyle='none',markeredgewidth=1,clip_on=False,linewidth=0,label=r'$k=$'+str(labels[2]))\n",
    "plt.plot(degree_sequence_neuron['2010'][3][0],degree_sequence_neuron['2010'][3][1],'orange',marker='+',markersize=5,fillstyle='none',markeredgewidth=1,clip_on=False,linewidth=0,label=r'$k=$'+str(labels[3]))\n",
    "plt.plot(degree_sequence_neuron['2010'][4][0],degree_sequence_neuron['2010'][4][1],'b',marker='s',markersize=5,fillstyle='none',markeredgewidth=1,clip_on=False,linewidth=0,label=r'$k=$'+str(labels[4]))\n",
    "plt.plot(degree_sequence_neuron['2010'][5][0],degree_sequence_neuron['2010'][5][1],'green',marker='d',markersize=5,fillstyle='none',markeredgewidth=0.5,clip_on=False,linewidth=0,label=r'$k_{max}=$'+str(labels[5]))\n",
    "\n",
    "plt.title('2010')\n",
    "plt.xscale('log')\n",
    "plt.yscale('log')\n",
    "plt.legend(loc='best')\n",
    "plt.ylabel(r'$P(d)$',fontsize=20)\n",
    "plt.xlabel(r'$d/ \\langle d \\rangle$',fontsize=20)\n",
    "plt.rcParams.update({'font.size': 10})\n",
    "plt.savefig('degree_distribution_neuron_2010.eps', format='eps', transparent=True, bbox_inches='tight',dpi=800)\n",
    "plt.show()"
   ]
  },
  {
   "cell_type": "markdown",
   "metadata": {},
   "source": [
    "## power law parameter"
   ]
  },
  {
   "cell_type": "markdown",
   "metadata": {},
   "source": [
    "### cell + neuron kmax"
   ]
  },
  {
   "cell_type": "code",
   "execution_count": 27,
   "metadata": {},
   "outputs": [],
   "source": [
    "alpha_cell=[]\n",
    "for key in keys_doi:\n",
    "    alpha_cell+=[powerlaw.Fit(degree_sequence[key][5][1],xmin=0.25).alpha]"
   ]
  },
  {
   "cell_type": "code",
   "execution_count": 28,
   "metadata": {},
   "outputs": [],
   "source": [
    "alpha_neuron=[]\n",
    "for key in keys_doi_neuron:\n",
    "    alpha_neuron+=[powerlaw.Fit(degree_sequence_neuron[key][5][1],xmin=0.25).alpha]"
   ]
  },
  {
   "cell_type": "code",
   "execution_count": 29,
   "metadata": {},
   "outputs": [
    {
     "data": {
      "image/png": "[encoded data removed]",
      "text/plain": [
       "<matplotlib.figure.Figure at 0x7f7526e34630>"
      ]
     },
     "metadata": {},
     "output_type": "display_data"
    }
   ],
   "source": [
    "plt.plot(keys_doi,alpha_cell,'k',marker='o',markersize=7,fillstyle='none',markeredgewidth=1,clip_on=False,linewidth=1,label=r'$cell$')\n",
    "plt.plot(keys_doi_neuron,alpha_neuron,'r',marker='x',markersize=7,fillstyle='none',markeredgewidth=1,clip_on=False,linewidth=1,label=r'$neuron$')\n",
    "\n",
    "plt.title(r'$k_{max}$')\n",
    "plt.legend(loc='best')\n",
    "plt.ylabel(r'$ \\alpha$',fontsize=20)\n",
    "plt.xlabel(r'$year$',fontsize=20)\n",
    "plt.rcParams.update({'font.size': 10})\n",
    "plt.ylim(2,3)\n",
    "plt.savefig('alpha.eps', format='eps', transparent=True, bbox_inches='tight',dpi=800)\n",
    "plt.show()"
   ]
  },
  {
   "cell_type": "markdown",
   "metadata": {},
   "source": [
    "## alpha para multiples k"
   ]
  },
  {
   "cell_type": "markdown",
   "metadata": {},
   "source": [
    "### cell + neuron"
   ]
  },
  {
   "cell_type": "code",
   "execution_count": 36,
   "metadata": {},
   "outputs": [
    {
     "data": {
      "application/vnd.jupyter.widget-view+json": {
       "model_id": "29d3557ed60e4df4bee156ffe594a454",
       "version_major": 2,
       "version_minor": 0
      },
      "text/plain": [
       "A Jupyter Widget"
      ]
     },
     "metadata": {},
     "output_type": "display_data"
    }
   ],
   "source": [
    "k_core_decomposition_multiple={}\n",
    "for key in keys_doi:\n",
    "    k_core_decomposition_multiple[key]=[]\n",
    "    \n",
    "for key in log_progress(keys_doi, every=1):\n",
    "    G=graphs[key]\n",
    "    core_numbers=list(set(nx.core_number(G).values()))\n",
    "    K=core_numbers[len(core_numbers)-20:]\n",
    "    for k in K: \n",
    "        k_core_decomposition_multiple[key]+=[(k,nx.k_core(G,k=k))]"
   ]
  },
  {
   "cell_type": "code",
   "execution_count": 37,
   "metadata": {},
   "outputs": [
    {
     "data": {
      "application/vnd.jupyter.widget-view+json": {
       "model_id": "86832f9b32324829bf50e52ba82d1d3d",
       "version_major": 2,
       "version_minor": 0
      },
      "text/plain": [
       "A Jupyter Widget"
      ]
     },
     "metadata": {},
     "output_type": "display_data"
    }
   ],
   "source": [
    "k_core_decomposition_neuron_multiple={}\n",
    "for key in keys_doi_neuron:\n",
    "    k_core_decomposition_neuron_multiple[key]=[]\n",
    "    \n",
    "for key in log_progress(keys_doi_neuron, every=1):\n",
    "    G=graphs_neuron[key]\n",
    "    core_numbers=list(set(nx.core_number(G).values()))\n",
    "    K=core_numbers[len(core_numbers)-20:]\n",
    "    for k in K: \n",
    "        k_core_decomposition_neuron_multiple[key]+=[(k,nx.k_core(G,k=k))]"
   ]
  },
  {
   "cell_type": "code",
   "execution_count": null,
   "metadata": {},
   "outputs": [
    {
     "data": {
      "application/vnd.jupyter.widget-view+json": {
       "model_id": "95f6f0fe617e4ea6bfcf23b3978b7619",
       "version_major": 2,
       "version_minor": 0
      },
      "text/plain": [
       "A Jupyter Widget"
      ]
     },
     "metadata": {},
     "output_type": "display_data"
    }
   ],
   "source": [
    "degree_sequence_multiple={}\n",
    "for key in keys_doi:\n",
    "    degree_sequence_multiple[key]=[]\n",
    "\n",
    "for key in log_progress(keys_doi,every=1):\n",
    "    degree=[]\n",
    "    for graph in list(zip(*k_core_decomposition_multiple[key]))[1]:\n",
    "        d=list(dict(nx.degree(graph,weight='weight')).values())\n",
    "        d=[x/float(np.mean(d)) for x in sorted(d)]\n",
    "        degree+=[(d,[x/float(max(np.cumsum(d))) for x in sorted(list(np.cumsum(d)),reverse=True)])]\n",
    "    degree_sequence_multiple[key]=degree"
   ]
  },
  {
   "cell_type": "code",
   "execution_count": 27,
   "metadata": {},
   "outputs": [
    {
     "data": {
      "application/vnd.jupyter.widget-view+json": {
       "model_id": "a8a82228ff41496e8be44ddfc0238089",
       "version_major": 2,
       "version_minor": 0
      },
      "text/plain": [
       "A Jupyter Widget"
      ]
     },
     "metadata": {},
     "output_type": "display_data"
    }
   ],
   "source": [
    "degree_sequence_neuron_multiple={}\n",
    "for key in keys_doi_neuron:\n",
    "    degree_sequence_neuron_multiple[key]=[]\n",
    "\n",
    "for key in log_progress(keys_doi_neuron,every=1):\n",
    "    degree=[]\n",
    "    for graph in list(zip(*k_core_decomposition_neuron_multiple[key]))[1]:\n",
    "        d=list(dict(nx.degree(graph,weight='weight')).values())\n",
    "        d=[x/float(np.mean(d)) for x in sorted(d)]\n",
    "        degree+=[(d,[x/float(max(np.cumsum(d))) for x in sorted(list(np.cumsum(d)),reverse=True)])]\n",
    "    degree_sequence_neuron_multiple[key]=degree"
   ]
  },
  {
   "cell_type": "code",
   "execution_count": 28,
   "metadata": {},
   "outputs": [],
   "source": [
    "alpha_cell_dict={}\n",
    "for key in keys_doi:\n",
    "    alpha_cell_dict[key]=[]\n",
    "\n",
    "for key in keys_doi:\n",
    "    for i in range(len(degree_sequence_multiple[key])):\n",
    "        alpha_cell_dict[key]+=[powerlaw.Fit(degree_sequence_multiple[key][i][1],xmin=0.25).alpha]"
   ]
  },
  {
   "cell_type": "code",
   "execution_count": 29,
   "metadata": {},
   "outputs": [],
   "source": [
    "alpha_neuron_dict={}\n",
    "for key in keys_doi_neuron:\n",
    "    alpha_neuron_dict[key]=[]\n",
    "\n",
    "for key in keys_doi_neuron:\n",
    "    for i in range(len(degree_sequence_neuron_multiple[key])):\n",
    "        alpha_neuron_dict[key]+=[powerlaw.Fit(degree_sequence_neuron_multiple[key][i][1],xmin=0.25).alpha]"
   ]
  },
  {
   "cell_type": "code",
   "execution_count": 30,
   "metadata": {},
   "outputs": [],
   "source": [
    "for key in keys_doi:\n",
    "    mean=np.mean(alpha_cell_dict[key])\n",
    "    std=np.std(alpha_cell_dict[key])\n",
    "    alpha_cell_dict[key]=[mean,std]"
   ]
  },
  {
   "cell_type": "code",
   "execution_count": 31,
   "metadata": {},
   "outputs": [],
   "source": [
    "for key in keys_doi_neuron:\n",
    "    mean_neuron=np.mean(alpha_neuron_dict[key])\n",
    "    std_neuron=np.std(alpha_neuron_dict[key])\n",
    "    alpha_neuron_dict[key]=[mean_neuron,std_neuron]"
   ]
  },
  {
   "cell_type": "code",
   "execution_count": 32,
   "metadata": {},
   "outputs": [],
   "source": [
    "Y=list(zip(*alpha_cell_dict.values()))[0]\n",
    "e=list(zip(*alpha_cell_dict.values()))[1]"
   ]
  },
  {
   "cell_type": "code",
   "execution_count": 33,
   "metadata": {},
   "outputs": [],
   "source": [
    "Y_neuron=list(zip(*alpha_neuron_dict.values()))[0]\n",
    "e_neuron=list(zip(*alpha_neuron_dict.values()))[1]"
   ]
  },
  {
   "cell_type": "code",
   "execution_count": 35,
   "metadata": {},
   "outputs": [
    {
     "data": {
      "image/png": "[encoded data removed]",
      "text/plain": [
       "<matplotlib.figure.Figure at 0x7f4bbcc0a710>"
      ]
     },
     "metadata": {},
     "output_type": "display_data"
    }
   ],
   "source": [
    "plt.plot(keys_doi,Y,'k',fillstyle='none',marker='o',markersize=7,markeredgewidth=0.5,clip_on=False,linewidth=1,label=r'$cell$')\n",
    "plt.errorbar(keys_doi,Y,e, linestyle='None', fillstyle='none',linewidth=1,markeredgewidth=0,clip_on=False,color='k')\n",
    "plt.plot(keys_doi_neuron,Y_neuron,'r',fillstyle='none',marker='x',markersize=7,markeredgewidth=0.5,clip_on=False,linewidth=1,label=r'$neuron$')\n",
    "plt.errorbar(keys_doi_neuron,Y_neuron,e_neuron, linestyle='None', fillstyle='none',linewidth=1,markeredgewidth=0,clip_on=False,color='k')\n",
    "\n",
    "plt.ylim(2,3)\n",
    "plt.legend(loc='best')\n",
    "plt.ylabel(r'$\\langle \\alpha \\rangle$',fontsize=20)\n",
    "plt.xlabel(r'$year$',fontsize=20)\n",
    "plt.rcParams.update({'font.size': 10})\n",
    "plt.savefig('alpha_mean_std.eps', format='eps', transparent=True, bbox_inches='tight',dpi=800)\n",
    "plt.show()"
   ]
  }
 ],
 "metadata": {
  "kernelspec": {
   "display_name": "Python 3",
   "language": "python",
   "name": "python3"
  },
  "language_info": {
   "codemirror_mode": {
    "name": "ipython",
    "version": 3
   },
   "file_extension": ".py",
   "mimetype": "text/x-python",
   "name": "python",
   "nbconvert_exporter": "python",
   "pygments_lexer": "ipython3",
   "version": "3.6.3"
  }
 },
 "nbformat": 4,
 "nbformat_minor": 2
}
