{
 "cells": [
  {
   "cell_type": "markdown",
   "metadata": {},
   "source": [
    "# novedad_shell\n",
    "## El propósito de este notebook es presentar una metodología de extracción de \"novedades\", basada en la descomposición $k-shell$. Las redes de palabras correspondientes a cada año (entre 2010 y 2016) se descomponen en $k-shells$, las cuales son agrupadas en $K=90$ capas que permiten la comparación a lo largo de los distintos años. Así, describimos la evolución de cada capa en el tiempo. El análisis está basado en la comparación entre la cantidad total de palabras acumuladas (es decir, miramos los nodos involucrados en una capa y vemos en el texto la frecuencia de aparición de estos nodos (palabras)) y la cantidad acumulada de palabras distintas. La hipótesis que subyace a este análisis es que las \"novedades\" aparecerán en las capas más externas de los grafos, dejando las capas internas (cercanas al $k_{max}-core$) como la parte más estable de los grafos, y por lo tanto de las revistas. \n"
   ]
  },
  {
   "cell_type": "code",
   "execution_count": 1,
   "metadata": {},
   "outputs": [],
   "source": [
    "import matplotlib.pyplot as plt\n",
    "import networkx as nx\n",
    "from nltk import sent_tokenize\n",
    "from nltk import word_tokenize\n",
    "import numpy as np\n",
    "import re\n",
    "import pickle\n",
    "import string\n",
    "import operator\n",
    "import itertools\n",
    "import community\n",
    "import json\n",
    "import statistics\n",
    "from collections import Counter\n",
    "from collections import Counter"
   ]
  },
  {
   "cell_type": "code",
   "execution_count": 2,
   "metadata": {},
   "outputs": [],
   "source": [
    "#########################################################################################################################\n",
    "############################################### progress bar ############################################################\n",
    "#########################################################################################################################\n",
    "################################# https://github.com/alexanderkuk/log-progress ##########################################\n",
    "#########################################################################################################################\n",
    "def log_progress(sequence, every=None, size=None, name='Items'):\n",
    "    from ipywidgets import IntProgress, HTML, VBox\n",
    "    from IPython.display import display\n",
    "\n",
    "    is_iterator = False\n",
    "    if size is None:\n",
    "        try:\n",
    "            size = len(sequence)\n",
    "        except TypeError:\n",
    "            is_iterator = True\n",
    "    if size is not None:\n",
    "        if every is None:\n",
    "            if size <= 200:\n",
    "                every = 1\n",
    "            else:\n",
    "                every = int(size / 200)     # every 0.5%\n",
    "    else:\n",
    "        assert every is not None, 'sequence is iterator, set every'\n",
    "\n",
    "    if is_iterator:\n",
    "        progress = IntProgress(min=0, max=1, value=1)\n",
    "        progress.bar_style = 'info'\n",
    "    else:\n",
    "        progress = IntProgress(min=0, max=size, value=0)\n",
    "    label = HTML()\n",
    "    box = VBox(children=[label, progress])\n",
    "    display(box)\n",
    "\n",
    "    index = 0\n",
    "    try:\n",
    "        for index, record in enumerate(sequence, 1):\n",
    "            if index == 1 or index % every == 0:\n",
    "                if is_iterator:\n",
    "                    label.value = '{name}: {index} / ?'.format(\n",
    "                        name=name,\n",
    "                        index=index\n",
    "                    )\n",
    "                else:\n",
    "                    progress.value = index\n",
    "                    label.value = u'{name}: {index} / {size}'.format(\n",
    "                        name=name,\n",
    "                        index=index,\n",
    "                        size=size\n",
    "                    )\n",
    "            yield record\n",
    "    except:\n",
    "        progress.bar_style = 'danger'\n",
    "        raise\n",
    "    else:\n",
    "        progress.bar_style = 'success'\n",
    "        progress.value = index\n",
    "        label.value = \"{name}: {index}\".format(\n",
    "            name=name,\n",
    "            index=str(index or '?')\n",
    "        )\n",
    "#########################################################################################################################\n",
    "#########################################################################################################################\n",
    "#########################################################################################################################"
   ]
  },
  {
   "cell_type": "markdown",
   "metadata": {},
   "source": [
    "## Descripción de los grafos por año\n",
    "### Los grafos están construidos utilizando únicamente sustantivos (comunes y propios) y con co-ocurrencia dentro de una oración. Se utilizaron 2080 introducciones de la revista Cell y 1644 introducciones de la revista Neuron. "
   ]
  },
  {
   "cell_type": "markdown",
   "metadata": {},
   "source": [
    "### cell"
   ]
  },
  {
   "cell_type": "code",
   "execution_count": 3,
   "metadata": {},
   "outputs": [],
   "source": [
    "keys_doi=['2010','2011','2012','2013','2014','2015','2016']"
   ]
  },
  {
   "cell_type": "code",
   "execution_count": 4,
   "metadata": {},
   "outputs": [],
   "source": [
    "graphs_cell = pickle.load(open( 'graphs_cell.p', 'rb' ) )"
   ]
  },
  {
   "cell_type": "code",
   "execution_count": 5,
   "metadata": {},
   "outputs": [
    {
     "name": "stdout",
     "output_type": "stream",
     "text": [
      "2010\n",
      "nodes: 9382\n",
      "edges: 232997\n",
      "average degree: 5.62332125346408\n",
      "max degree: 525.9999999999999\n",
      "max core number: 89\n",
      "main core size: 289\n",
      "main crust size: 9093\n",
      "2011\n",
      "nodes: 10221\n",
      "edges: 277270\n",
      "average degree: 6.0851188729087164\n",
      "max degree: 660.0000000000008\n",
      "max core number: 101\n",
      "main core size: 291\n",
      "main crust size: 9930\n",
      "2012\n",
      "nodes: 11901\n",
      "edges: 347888\n",
      "average degree: 6.7948071590622625\n",
      "max degree: 842.0000000000076\n",
      "max core number: 119\n",
      "main core size: 333\n",
      "main crust size: 11568\n",
      "2013\n",
      "nodes: 11551\n",
      "edges: 328830\n",
      "average degree: 6.6130205177040935\n",
      "max degree: 784.0000000000051\n",
      "max core number: 112\n",
      "main core size: 376\n",
      "main crust size: 11175\n",
      "2014\n",
      "nodes: 11871\n",
      "edges: 352073\n",
      "average degree: 6.761856625389606\n",
      "max degree: 849.0000000000073\n",
      "max core number: 119\n",
      "main core size: 378\n",
      "main crust size: 11493\n",
      "2015\n",
      "nodes: 12962\n",
      "edges: 381724\n",
      "average degree: 6.533945378799568\n",
      "max degree: 905.0000000000059\n",
      "max core number: 120\n",
      "main core size: 335\n",
      "main crust size: 12627\n",
      "2016\n",
      "nodes: 11573\n",
      "edges: 333336\n",
      "average degree: 9.299403784671213\n",
      "max degree: 1157.9999999999745\n",
      "max core number: 113\n",
      "main core size: 377\n",
      "main crust size: 11196\n"
     ]
    }
   ],
   "source": [
    "for key in keys_doi:\n",
    "    G=graphs_cell[key]\n",
    "    print(key)\n",
    "    print('nodes: '+str(len(G.nodes)))\n",
    "    print('edges: '+str(len(G.edges)))\n",
    "    print('average degree: '+str(sum(dict(nx.degree(G,weight='weight')).values())/float(len(G.nodes))))\n",
    "    print('max degree: '+str(max(dict(nx.degree(G,weight='weight')).values())))\n",
    "    core_number=nx.core_number(G)\n",
    "    print('max core number: '+str(max(core_number.values())))\n",
    "    main_core=nx.k_core(G,max(core_number.values()))\n",
    "    print('main core size: '+str(len(main_core)))\n",
    "    main_crust=nx.k_crust(G,max(core_number.values())-1)\n",
    "    print('main crust size: '+str(len(main_crust)))"
   ]
  },
  {
   "cell_type": "markdown",
   "metadata": {},
   "source": [
    "### neuron"
   ]
  },
  {
   "cell_type": "code",
   "execution_count": 6,
   "metadata": {},
   "outputs": [],
   "source": [
    "graphs_neuron = pickle.load(open( 'graphs_neuron.p', 'rb' ) )"
   ]
  },
  {
   "cell_type": "code",
   "execution_count": 8,
   "metadata": {},
   "outputs": [
    {
     "name": "stdout",
     "output_type": "stream",
     "text": [
      "2010\n",
      "nodes: 6582\n",
      "edges: 183947\n",
      "average degree 6.266636280765725\n",
      "max degree 596.0000000000001\n",
      "max core number 90\n",
      "main core size: 246\n",
      "main crust size: 6336\n",
      "2011\n",
      "nodes: 8572\n",
      "edges: 264772\n",
      "average degree 7.20158656089594\n",
      "max degree 881.0000000000038\n",
      "max core number 112\n",
      "main core size: 289\n",
      "main crust size: 8283\n",
      "2012\n",
      "nodes: 7834\n",
      "edges: 235099\n",
      "average degree 6.81937707429155\n",
      "max degree 603.0000000000023\n",
      "max core number 103\n",
      "main core size: 284\n",
      "main crust size: 7550\n",
      "2013\n",
      "nodes: 8511\n",
      "edges: 252364\n",
      "average degree 6.930677946187288\n",
      "max degree 813.0000000000088\n",
      "max core number 111\n",
      "main core size: 262\n",
      "main crust size: 8249\n",
      "2014\n",
      "nodes: 8796\n",
      "edges: 277465\n",
      "average degree 7.327080491132332\n",
      "max degree 795.000000000006\n",
      "max core number 115\n",
      "main core size: 259\n",
      "main crust size: 8537\n",
      "2015\n",
      "nodes: 7836\n",
      "edges: 238062\n",
      "average degree 7.167687595712098\n",
      "max degree 777.0000000000076\n",
      "max core number 110\n",
      "main core size: 233\n",
      "main crust size: 7603\n",
      "2016\n",
      "nodes: 8862\n",
      "edges: 281633\n",
      "average degree 7.3455201986007665\n",
      "max degree 892.000000000003\n",
      "max core number 117\n",
      "main core size: 346\n",
      "main crust size: 8516\n"
     ]
    }
   ],
   "source": [
    "for key in keys_doi:\n",
    "    G=graphs_neuron[key]\n",
    "    print(key)\n",
    "    print('nodes: '+str(len(G.nodes)))\n",
    "    print('edges: '+str(len(G.edges)))\n",
    "    print('average degree '+str(sum(dict(nx.degree(G,weight='weight')).values())/float(len(G.nodes))))\n",
    "    print('max degree '+str(max(dict(nx.degree(G,weight='weight')).values())))\n",
    "    core_number=nx.core_number(G)\n",
    "    print('max core number '+str(max(core_number.values())))\n",
    "    main_core=nx.k_core(G)\n",
    "    print('main core size: '+str(len(main_core)))\n",
    "    main_crust=nx.k_crust(G,max(core_number.values())-1)\n",
    "    print('main crust size: '+str(len(main_crust)))"
   ]
  },
  {
   "cell_type": "markdown",
   "metadata": {},
   "source": [
    "## k shell decomposition by year"
   ]
  },
  {
   "cell_type": "markdown",
   "metadata": {},
   "source": [
    "### cell"
   ]
  },
  {
   "cell_type": "code",
   "execution_count": 9,
   "metadata": {},
   "outputs": [
    {
     "data": {
      "application/vnd.jupyter.widget-view+json": {
       "model_id": "2e908e7faa374098b62235ca49b5cb64",
       "version_major": 2,
       "version_minor": 0
      },
      "text/plain": [
       "VBox(children=(HTML(value=''), IntProgress(value=0, max=7)))"
      ]
     },
     "metadata": {},
     "output_type": "display_data"
    }
   ],
   "source": [
    "decomposition_shell_cell={}\n",
    "for key in log_progress(keys_doi, every=1):\n",
    "    G=graphs_cell[key]\n",
    "    core_numbers=list(set(nx.core_number(G).values()))\n",
    "    dict_shell={}\n",
    "    for k in core_numbers:\n",
    "        dict_shell[k]=nx.k_shell(G,k)\n",
    "    decomposition_shell_cell[key]=dict_shell"
   ]
  },
  {
   "cell_type": "code",
   "execution_count": 10,
   "metadata": {},
   "outputs": [],
   "source": [
    "pickle.dump(decomposition_shell_cell,open('decomposition_shell_cell.p','wb'))"
   ]
  },
  {
   "cell_type": "markdown",
   "metadata": {},
   "source": [
    "### neuron"
   ]
  },
  {
   "cell_type": "code",
   "execution_count": 12,
   "metadata": {},
   "outputs": [
    {
     "data": {
      "application/vnd.jupyter.widget-view+json": {
       "model_id": "ec4aa977ddcd4870918d72103171bfbe",
       "version_major": 2,
       "version_minor": 0
      },
      "text/plain": [
       "VBox(children=(HTML(value=''), IntProgress(value=0, max=7)))"
      ]
     },
     "metadata": {},
     "output_type": "display_data"
    }
   ],
   "source": [
    "decomposition_shell_neuron={}\n",
    "for key in log_progress(keys_doi, every=1):\n",
    "    G=graphs_neuron[key]\n",
    "    core_numbers=list(set(nx.core_number(G).values()))\n",
    "    dict_shell={}\n",
    "    for k in core_numbers:\n",
    "        dict_shell[k]=nx.k_shell(G,k)\n",
    "    decomposition_shell_neuron[key]=dict_shell"
   ]
  },
  {
   "cell_type": "code",
   "execution_count": 13,
   "metadata": {},
   "outputs": [],
   "source": [
    "pickle.dump(decomposition_shell_neuron,open('decomposition_shell_neuron.p','wb'))"
   ]
  },
  {
   "cell_type": "markdown",
   "metadata": {},
   "source": [
    "### shell decomposition"
   ]
  },
  {
   "cell_type": "code",
   "execution_count": 23,
   "metadata": {},
   "outputs": [],
   "source": [
    "decomposition_shell_cell = pickle.load(open('decomposition_shell_cell.p', 'rb')) ## solo para el 2016\n",
    "text_cell = pickle.load(open( 'text_cell.p', 'rb' ) )"
   ]
  },
  {
   "cell_type": "code",
   "execution_count": 24,
   "metadata": {},
   "outputs": [],
   "source": [
    "def NTvsT(decomposition,words_text): \n",
    "    cumulated_words_core=[]\n",
    "    words_dict_core={}\n",
    "    \n",
    "    for k in sorted(decomposition.keys()):\n",
    "        words=words_text[k]\n",
    "        core_words=list(decomposition[k].nodes())\n",
    "        \n",
    "        words=[item for sublist in words for item in sublist if item in core_words]\n",
    "        cumulated_words_core+=words\n",
    "        \n",
    "        total_words=len(cumulated_words_core)\n",
    "        total_diff=len(list(set(cumulated_words_core)))\n",
    "        largest = max(nx.connected_components(decomposition[k]), key=len)\n",
    "        words_dict_core[k]=[total_words,total_diff,len(core_words),nx.number_connected_components(decomposition[k]),len(largest),len(largest)/float(len(decomposition[k]))]\n",
    "    \n",
    "    return words_dict_core"
   ]
  },
  {
   "cell_type": "code",
   "execution_count": 25,
   "metadata": {},
   "outputs": [],
   "source": [
    "def NnewvsT(decomposition,words_text,graphs): \n",
    "    cumulated_words_core=[]\n",
    "    words_dict_core={}\n",
    "    \n",
    "    for k in sorted(decomposition.keys()):\n",
    "        words=words_text[k]\n",
    "        core_words=list(decomposition[k].nodes())\n",
    "        \n",
    "        words=[item for sublist in words for item in sublist if item in core_words]\n",
    "        cumulated_words_core_copy=cumulated_words_core.copy()\n",
    "        cumulated_words_core+=words\n",
    "        \n",
    "        total_words=len(cumulated_words_core)\n",
    "        total_diff=len(list(set(cumulated_words_core)))\n",
    "        total_new=len(list(set(cumulated_words_core)-set(cumulated_words_core_copy)))\n",
    "        \n",
    "        words_dict_core[k]=[total_words,total_new,total_diff,len(core_words)]\n",
    "    \n",
    "    return words_dict_core"
   ]
  },
  {
   "cell_type": "code",
   "execution_count": 26,
   "metadata": {},
   "outputs": [],
   "source": [
    "for key in decomposition_shell_cell.keys():\n",
    "    seq=list(decomposition_shell_cell[key].keys())\n",
    "    pieces = 75\n",
    "    m = float(len(seq))/pieces\n",
    "    seq_of_seqs=[seq[int(m*i):int(m*(i+1))] for i in range(pieces)]\n",
    "    S=[]\n",
    "    for L in seq_of_seqs:\n",
    "        L=[decomposition_shell_cell[key][i] for i in L]\n",
    "        S+=[nx.union_all(L)]\n",
    "    decomposition_shell_cell[key]=S"
   ]
  },
  {
   "cell_type": "code",
   "execution_count": 27,
   "metadata": {},
   "outputs": [],
   "source": [
    "list_by_year=list(zip(*list(decomposition_shell_cell.values())))"
   ]
  },
  {
   "cell_type": "code",
   "execution_count": 28,
   "metadata": {},
   "outputs": [],
   "source": [
    "data=[]\n",
    "for item in list_by_year:\n",
    "    item={x:y for x,y in zip(decomposition_shell_cell.keys(),item)}\n",
    "    data+=[item]"
   ]
  },
  {
   "cell_type": "code",
   "execution_count": 29,
   "metadata": {},
   "outputs": [
    {
     "data": {
      "application/vnd.jupyter.widget-view+json": {
       "model_id": "114cb925de37415eaea9d153fe07399e",
       "version_major": 2,
       "version_minor": 0
      },
      "text/plain": [
       "VBox(children=(HTML(value=''), IntProgress(value=0, max=75)))"
      ]
     },
     "metadata": {},
     "output_type": "display_data"
    }
   ],
   "source": [
    "for i in log_progress(range(len(data)),every=1):\n",
    "    data[i]=NTvsT(data[i],text_cell)"
   ]
  },
  {
   "cell_type": "code",
   "execution_count": 30,
   "metadata": {},
   "outputs": [],
   "source": [
    "data_new=[]\n",
    "for item in list_by_year:\n",
    "    item={x:y for x,y in zip(decomposition_shell_cell.keys(),item)}\n",
    "    data_new+=[item]"
   ]
  },
  {
   "cell_type": "code",
   "execution_count": 31,
   "metadata": {},
   "outputs": [
    {
     "data": {
      "application/vnd.jupyter.widget-view+json": {
       "model_id": "49843ec495eb413e839f5d98277fc0e8",
       "version_major": 2,
       "version_minor": 0
      },
      "text/plain": [
       "VBox(children=(HTML(value=''), IntProgress(value=0, max=75)))"
      ]
     },
     "metadata": {},
     "output_type": "display_data"
    }
   ],
   "source": [
    "for i in log_progress(range(len(data_new)),every=1):\n",
    "    data_new[i]=NnewvsT(data_new[i],text_cell,graphs_cell)"
   ]
  },
  {
   "cell_type": "code",
   "execution_count": 32,
   "metadata": {},
   "outputs": [],
   "source": [
    "data_2016=[item['2016'] for item in data]"
   ]
  },
  {
   "cell_type": "code",
   "execution_count": 33,
   "metadata": {},
   "outputs": [],
   "source": [
    "data_2016_new=[item['2016'] for item in data_new]"
   ]
  },
  {
   "cell_type": "code",
   "execution_count": 46,
   "metadata": {},
   "outputs": [
    {
     "data": {
      "image/png": "[encoded data removed]",
      "text/plain": [
       "<Figure size 432x288 with 1 Axes>"
      ]
     },
     "metadata": {},
     "output_type": "display_data"
    }
   ],
   "source": [
    "plt.loglog(list(list(zip(*data_2016))[0]),list(list(zip(*data_2016))[1]),'r',marker='x',markersize=9,fillstyle='none',markeredgewidth=2,clip_on=False,linewidth=0.5)\n",
    "\n",
    "plt.ylabel(r'$N_d$',fontsize=20)\n",
    "plt.xlabel(r'$N_T$',fontsize=20)\n",
    "plt.rcParams.update({'font.size': 10})\n",
    "plt.savefig('Nd_NT.pdf', format='pdf', transparent=True, bbox_inches='tight',dpi=1000)\n",
    "plt.show()"
   ]
  },
  {
   "cell_type": "code",
   "execution_count": 47,
   "metadata": {},
   "outputs": [
    {
     "data": {
      "image/png": "[encoded data removed]",
      "text/plain": [
       "<Figure size 432x288 with 1 Axes>"
      ]
     },
     "metadata": {},
     "output_type": "display_data"
    }
   ],
   "source": [
    "plt.loglog(range(1,76),list(list(zip(*data_2016))[1]),'r',marker='x',markersize=9,fillstyle='none',markeredgewidth=2,clip_on=False,linewidth=0.5)\n",
    "\n",
    "plt.ylabel(r'$N_d$',fontsize=20)\n",
    "plt.xlabel(r'$k^*-shell$',fontsize=20)\n",
    "plt.rcParams.update({'font.size': 10})\n",
    "plt.savefig('Nd_k*shell.pdf', format='pdf', transparent=True, bbox_inches='tight',dpi=1000)\n",
    "plt.show()"
   ]
  },
  {
   "cell_type": "code",
   "execution_count": 48,
   "metadata": {},
   "outputs": [
    {
     "data": {
      "image/png": "[encoded data removed]",
      "text/plain": [
       "<Figure size 432x288 with 1 Axes>"
      ]
     },
     "metadata": {},
     "output_type": "display_data"
    }
   ],
   "source": [
    "plt.loglog(range(1,76),list(list(zip(*data_2016))[0]),'r',marker='x',markersize=9,fillstyle='none',markeredgewidth=2,clip_on=False,linewidth=0.5)\n",
    "\n",
    "plt.ylabel(r'$N_T$',fontsize=20)\n",
    "plt.xlabel(r'$k^*-shell$',fontsize=20)\n",
    "plt.rcParams.update({'font.size': 10})\n",
    "plt.savefig('NT_k*shell.pdf', format='pdf', transparent=True, bbox_inches='tight',dpi=1000)\n",
    "plt.show()"
   ]
  },
  {
   "cell_type": "code",
   "execution_count": 49,
   "metadata": {},
   "outputs": [
    {
     "data": {
      "image/png": "[encoded data removed]",
      "text/plain": [
       "<Figure size 432x288 with 1 Axes>"
      ]
     },
     "metadata": {},
     "output_type": "display_data"
    }
   ],
   "source": [
    "plt.loglog(range(1,76),list(list(zip(*data_2016))[2]),'r',marker='x',markersize=9,fillstyle='none',markeredgewidth=2,clip_on=False,linewidth=0.5)\n",
    "\n",
    "plt.ylabel(r'$|k^*-shell|$',fontsize=20)\n",
    "plt.xlabel(r'$k^*$',fontsize=20)\n",
    "plt.rcParams.update({'font.size': 10})\n",
    "plt.savefig('k*shell_size.pdf', format='pdf', transparent=True, bbox_inches='tight',dpi=1000)\n",
    "plt.show()"
   ]
  },
  {
   "cell_type": "code",
   "execution_count": 50,
   "metadata": {},
   "outputs": [
    {
     "data": {
      "image/png": "[encoded data removed]",
      "text/plain": [
       "<Figure size 432x288 with 1 Axes>"
      ]
     },
     "metadata": {},
     "output_type": "display_data"
    }
   ],
   "source": [
    "plt.loglog(list(list(zip(*data_2016_new))[0]),list(list(zip(*data_2016_new))[1]),'r',marker='x',markersize=9,fillstyle='none',markeredgewidth=2,clip_on=False,linewidth=0.5)\n",
    "\n",
    "plt.ylabel(r'$N_{new}$',fontsize=20)\n",
    "plt.xlabel(r'$N_T(t)$',fontsize=20)\n",
    "plt.rcParams.update({'font.size': 10})\n",
    "plt.savefig('Nnew_NT.pdf', format='pdf', transparent=True, bbox_inches='tight',dpi=1000)\n",
    "plt.show()"
   ]
  },
  {
   "cell_type": "code",
   "execution_count": 63,
   "metadata": {},
   "outputs": [
    {
     "data": {
      "image/png": "[encoded data removed]",
      "text/plain": [
       "<Figure size 432x288 with 1 Axes>"
      ]
     },
     "metadata": {},
     "output_type": "display_data"
    }
   ],
   "source": [
    "plt.loglog(list(list(zip(*data_2016_new))[2]),list(list(zip(*data_2016_new))[1]),'r',marker='x',markersize=9,fillstyle='none',markeredgewidth=2,clip_on=False,linewidth=0.5)\n",
    "\n",
    "plt.ylabel(r'$N_{new}$',fontsize=20)\n",
    "plt.xlabel(r'$N_d(t)$',fontsize=20)\n",
    "plt.rcParams.update({'font.size': 10})\n",
    "#plt.savefig('Nnewvst_shell_cell.pdf', format='pdf', transparent=True, bbox_inches='tight',dpi=1000)\n",
    "plt.show()"
   ]
  },
  {
   "cell_type": "code",
   "execution_count": null,
   "metadata": {},
   "outputs": [],
   "source": []
  }
 ],
 "metadata": {
  "kernelspec": {
   "display_name": "Python 3",
   "language": "python",
   "name": "python3"
  },
  "language_info": {
   "codemirror_mode": {
    "name": "ipython",
    "version": 3
   },
   "file_extension": ".py",
   "mimetype": "text/x-python",
   "name": "python",
   "nbconvert_exporter": "python",
   "pygments_lexer": "ipython3",
   "version": "3.6.6"
  }
 },
 "nbformat": 4,
 "nbformat_minor": 2
}
