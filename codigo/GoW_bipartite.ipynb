{
 "cells": [
  {
   "cell_type": "markdown",
   "metadata": {},
   "source": [
    "# GoW bipartite (W+J)"
   ]
  },
  {
   "cell_type": "code",
   "execution_count": 218,
   "metadata": {},
   "outputs": [],
   "source": [
    "import matplotlib.pyplot as plt\n",
    "import networkx as nx\n",
    "from networkx.algorithms import bipartite\n",
    "import spacy\n",
    "nlp = spacy.load('en')\n",
    "from nltk.corpus import stopwords\n",
    "from nltk import sent_tokenize\n",
    "from nltk import word_tokenize\n",
    "import numpy as np\n",
    "import operator\n",
    "import re\n",
    "import string\n",
    "import itertools\n",
    "import json\n",
    "import statistics\n",
    "import random\n",
    "from collections import Counter\n",
    "data=open('stopwords.txt','r')\n",
    "data_read = data.read()\n",
    "stop_words=data_read.replace('\\n',' ').split()"
   ]
  },
  {
   "cell_type": "markdown",
   "metadata": {},
   "source": [
    "## funcion que limpia los textos"
   ]
  },
  {
   "cell_type": "code",
   "execution_count": 219,
   "metadata": {},
   "outputs": [],
   "source": [
    "def clean(text): \n",
    "    text=re.sub(\"[\\(\\[].*?[\\)\\]]\", \"\", text)\n",
    "    text=text.replace('al.','')\n",
    "    sentences=sent_tokenize(text)\n",
    "    sentences=[nlp(sentence.lower()) for sentence in sentences] \n",
    "    \n",
    "    sentences=[[token.lemma_ for token in sentence if token.lemma_ != '-PRON-' and token.is_punct==False and token.like_num==False] for sentence in sentences]\n",
    "\n",
    "    sentences=[[word for word in sentence if not word in stop_words] for sentence in sentences]\n",
    "    sentences=[[(re.sub(r'[^a-zA-Z0-9]', '', word)) for word in sentence] for sentence in sentences]  \n",
    "    sentences=[[word for word in sentence if word.isdigit()==False and word!=''] for sentence in sentences]\n",
    "    sentences=[sentence for sentence in sentences if len(sentence)>1]\n",
    "    \n",
    "    return sentences"
   ]
  },
  {
   "cell_type": "markdown",
   "metadata": {},
   "source": [
    "### ejemplo"
   ]
  },
  {
   "cell_type": "code",
   "execution_count": 255,
   "metadata": {},
   "outputs": [
    {
     "data": {
      "text/plain": [
       "[['sequence',\n",
       "  'neanderthal',\n",
       "  'genome',\n",
       "  'denisovan',\n",
       "  'genome',\n",
       "  'early',\n",
       "  'modern',\n",
       "  'human',\n",
       "  'genome',\n",
       "  'eurasia',\n",
       "  'confirm',\n",
       "  'archaic',\n",
       "  'hominin',\n",
       "  'leave',\n",
       "  'mark',\n",
       "  'genome',\n",
       "  'modern',\n",
       "  'human'],\n",
       " ['present',\n",
       "  'day',\n",
       "  'individual',\n",
       "  'eurasia',\n",
       "  'inherit',\n",
       "  'genome',\n",
       "  'neanderthal',\n",
       "  'individual',\n",
       "  'oceania',\n",
       "  'inherit',\n",
       "  'genome',\n",
       "  'denisovan'],\n",
       " ['suggestive',\n",
       "  'evidence',\n",
       "  'admixture',\n",
       "  'unidentified',\n",
       "  'hominin',\n",
       "  'specie',\n",
       "  'occur',\n",
       "  'africa'],\n",
       " ['understand',\n",
       "  'functional',\n",
       "  'phenotypic',\n",
       "  'evolutionary',\n",
       "  'consequence',\n",
       "  'archaic',\n",
       "  'admixture',\n",
       "  'identify',\n",
       "  'specific',\n",
       "  'haplotype',\n",
       "  'allele',\n",
       "  'inherit',\n",
       "  'archaic',\n",
       "  'hominin',\n",
       "  'ancestor'],\n",
       " ['approach',\n",
       "  'identify',\n",
       "  'introgressed',\n",
       "  'haplotype',\n",
       "  'include',\n",
       "  'method',\n",
       "  'specifically',\n",
       "  'incorporate',\n",
       "  'reference',\n",
       "  'archaic',\n",
       "  'hominin',\n",
       "  'genome',\n",
       "  'sequence',\n",
       "  'reference',\n",
       "  'free',\n",
       "  'method',\n",
       "  'utilize',\n",
       "  'information'],\n",
       " ['category',\n",
       "  'method',\n",
       "  'sankararaman',\n",
       "  'identify',\n",
       "  'archaic',\n",
       "  'haplotype',\n",
       "  'compare',\n",
       "  'modern',\n",
       "  'human',\n",
       "  'haplotype',\n",
       "  'reference',\n",
       "  'archaic',\n",
       "  'sequence'],\n",
       " ['category',\n",
       "  'method',\n",
       "  'include',\n",
       "  's',\n",
       "  'statistic',\n",
       "  'search',\n",
       "  'mutational',\n",
       "  'signature',\n",
       "  'ancient',\n",
       "  'admixture',\n",
       "  'leaf',\n",
       "  'genome',\n",
       "  'present',\n",
       "  'day',\n",
       "  'human'],\n",
       " ['s',\n",
       "  'approach',\n",
       "  'powerful',\n",
       "  'find',\n",
       "  'introgressed',\n",
       "  'haplotype',\n",
       "  'absence',\n",
       "  'archaic',\n",
       "  'reference',\n",
       "  'genome',\n",
       "  'leverage',\n",
       "  'unusual',\n",
       "  'mutational',\n",
       "  'characteristic',\n",
       "  'introgressed',\n",
       "  'haplotype'],\n",
       " ['long',\n",
       "  'divergence',\n",
       "  'time',\n",
       "  'neanderthal',\n",
       "  'modern',\n",
       "  'human',\n",
       "  'neanderthal',\n",
       "  'carry',\n",
       "  'allele',\n",
       "  'specific',\n",
       "  'lineage'],\n",
       " ['allele',\n",
       "  'present',\n",
       "  'introgressed',\n",
       "  'haplotype',\n",
       "  'absent',\n",
       "  'rare',\n",
       "  'african',\n",
       "  'genome'],\n",
       " ['base',\n",
       "  'recent',\n",
       "  'timing',\n",
       "  'admixture',\n",
       "  'introgressed',\n",
       "  'haplotype',\n",
       "  'expect',\n",
       "  'maintain',\n",
       "  'recombination',\n",
       "  'distance',\n",
       "  'approximately',\n",
       "  'kb',\n",
       "  'average',\n",
       "  'result',\n",
       "  'high',\n",
       "  'level',\n",
       "  'linkage',\n",
       "  'disequilibrium',\n",
       "  'neanderthal',\n",
       "  'specific',\n",
       "  'allele',\n",
       "  'african',\n",
       "  'human',\n",
       "  'genome'],\n",
       " ['study',\n",
       "  'develop',\n",
       "  'slike',\n",
       "  'method',\n",
       "  'increase',\n",
       "  'power',\n",
       "  'suitable',\n",
       "  'large',\n",
       "  'scale',\n",
       "  'genome',\n",
       "  'wide',\n",
       "  'datum'],\n",
       " ['apply',\n",
       "  'method',\n",
       "  'large',\n",
       "  'set',\n",
       "  'sequence',\n",
       "  'datum',\n",
       "  'eurasia',\n",
       "  'oceania',\n",
       "  'identify',\n",
       "  'putative',\n",
       "  'archaic',\n",
       "  'specific',\n",
       "  'allele'],\n",
       " ['examine',\n",
       "  'rate',\n",
       "  'allele',\n",
       "  'match',\n",
       "  'sequence',\n",
       "  'archaic',\n",
       "  'genome',\n",
       "  'role',\n",
       "  'gene',\n",
       "  'allele',\n",
       "  'obtain',\n",
       "  'insight',\n",
       "  'history',\n",
       "  'admixture',\n",
       "  'event',\n",
       "  'impact',\n",
       "  'modern',\n",
       "  'human',\n",
       "  'genome']]"
      ]
     },
     "execution_count": 255,
     "metadata": {},
     "output_type": "execute_result"
    }
   ],
   "source": [
    "text='Sequencing the Neanderthal genome (Green et al., 2010, Prüfer et al., 2014), the Denisovan genome (Reich et al., 2010), and several early modern human genomes from Eurasia (Fu et al., 2014, Fu et al., 2015) has confirmed that archaic hominins left their mark in the genomes of modern humans (Plagnol and Wall, 2006, Sankararaman et al., 2014, Vernot and Akey, 2014, Vernot et al., 2016). Present-day individuals in Eurasia inherited ∼2% of their genome from Neanderthals (Green et al., 2010), and individuals from Oceania inherited ∼5% of their genome from Denisovans (Reich et al., 2010). Suggestive evidence indicates that admixture from other unidentified hominin species occurred in Africa (Hammer et al., 2011, Hsieh et al., 2016, Lachance et al., 2012, Plagnol and Wall, 2006, Wall et al., 2009). To understand the functional, phenotypic, and evolutionary consequences of archaic admixture, it is necessary to identify the specific haplotypes and alleles that were inherited from archaic hominin ancestors (Huerta-Sánchez et al., 2014, Juric et al., 2016, Sankararaman et al., 2014, Simonti et al., 2016, Vernot and Akey, 2014). Approaches to identifying introgressed haplotypes include methods that specifically incorporate reference archaic hominin genome sequences and reference-free methods that do not utilize such information. An example of the former category is the method of Sankararaman et al. (2014), which identifies archaic haplotypes by comparing modern human haplotypes to a reference archaic sequence. The latter category of methods include the S∗ statistic (Plagnol and Wall, 2006), which searches for the mutational signature that ancient admixture leaves in the genomes of present-day humans. The S∗ approach is powerful for finding introgressed haplotypes in the absence of an archaic reference genome because it leverages the unusual mutational characteristics of introgressed haplotypes. Because of the long divergence time between Neanderthals and modern humans, Neanderthals carry many alleles that are specific to their lineage. Such alleles are present on introgressed haplotypes but are absent or rare in African genomes. Further, based on the recent timing of admixture, introgressed haplotypes are expected to be maintained without recombination over distances of approximately 50 kb on average (Sankararaman et al., 2012), resulting in high levels of linkage disequilibrium (LD) between Neanderthal-specific alleles in non-African human genomes. In this study, we develop an S∗-like method that has increased power and is suitable for large-scale genome-wide data. We apply the method to large sets of sequenced data from Eurasia and Oceania and identify putative archaic-specific alleles. We examine the rate at which these alleles match the sequenced archaic genomes and the role of the genes containing these alleles, to obtain insights into the history of the admixture events and their impact on modern human genomes.'\n",
    "text_clean=clean(text)\n",
    "text_clean"
   ]
  },
  {
   "cell_type": "markdown",
   "metadata": {},
   "source": [
    "## grafo de palabras bipartito"
   ]
  },
  {
   "cell_type": "code",
   "execution_count": 221,
   "metadata": {},
   "outputs": [],
   "source": [
    "def bipartite_graph(text_clean):\n",
    "    words=[item for sublist in text_clean for item in sublist]\n",
    "    unique_words=list(set(words))\n",
    "    B = nx.Graph() ## creamos el grafo!\n",
    "    ## bipartito!\n",
    "    B.add_nodes_from(range(len(text_clean)), bipartite=0) ## sentences\n",
    "    B.add_nodes_from(unique_words, bipartite=1) ## words\n",
    "    \n",
    "    for i in range(len(text_clean)):\n",
    "        for word in unique_words:\n",
    "            sentence=text_clean[i]\n",
    "            n=sentence.count(word)\n",
    "            if n>0:\n",
    "                if B.has_edge(i,word)==False:\n",
    "                    B.add_edge(i,word,weight=n) ## el peso de la arista es el numero de veces que aparece la palabra\n",
    "        \n",
    "    return B"
   ]
  },
  {
   "cell_type": "code",
   "execution_count": 222,
   "metadata": {},
   "outputs": [],
   "source": [
    "B=bipartite_graph(text_clean)"
   ]
  },
  {
   "cell_type": "code",
   "execution_count": 223,
   "metadata": {},
   "outputs": [
    {
     "data": {
      "text/plain": [
       "NodeView((0, 1, 2, 3, 4, 5, 6, 7, 8, 9, 10, 11, 12, 13, 'distance', 'time', 'sequence', 'powerful', 'develop', 'putative', 'divergence', 'inherit', 'kb', 'result', 'find', 'linkage', 'lineage', 'functional', 'unidentified', 'scale', 'statistic', 'sankararaman', 'gene', 'impact', 'leverage', 'average', 'insight', 'admixture', 'specie', 'role', 'category', 'recombination', 'unusual', 'signature', 'carry', 'recent', 'compare', 'absence', 'suggestive', 'phenotypic', 's', 'leave', 'understand', 'evolutionary', 'suitable', 'increase', 'present', 'consequence', 'evidence', 'hominin', 'incorporate', 'rate', 'apply', 'obtain', 'identify', 'disequilibrium', 'long', 'set', 'history', 'confirm', 'mutational', 'mark', 'occur', 'method', 'specific', 'africa', 'power', 'approach', 'absent', 'level', 'free', 'oceania', 'maintain', 'modern', 'characteristic', 'event', 'specifically', 'denisovan', 'ancient', 'include', 'slike', 'study', 'datum', 'search', 'wide', 'timing', 'individual', 'examine', 'eurasia', 'utilize', 'introgressed', 'information', 'human', 'haplotype', 'base', 'genome', 'expect', 'african', 'rare', 'reference', 'archaic', 'early', 'match', 'large', 'approximately', 'neanderthal', 'ancestor', 'day', 'allele', 'high', 'leaf'))"
      ]
     },
     "execution_count": 223,
     "metadata": {},
     "output_type": "execute_result"
    }
   ],
   "source": [
    "B.nodes"
   ]
  },
  {
   "cell_type": "code",
   "execution_count": 224,
   "metadata": {},
   "outputs": [
    {
     "data": {
      "text/plain": [
       "EdgeDataView([(0, 'sequence', {'weight': 1}), (0, 'leave', {'weight': 1}), (0, 'hominin', {'weight': 1}), (0, 'confirm', {'weight': 1}), (0, 'mark', {'weight': 1}), (0, 'modern', {'weight': 2}), (0, 'denisovan', {'weight': 1}), (0, 'eurasia', {'weight': 1}), (0, 'human', {'weight': 2}), (0, 'genome', {'weight': 4}), (0, 'archaic', {'weight': 1}), (0, 'early', {'weight': 1}), (0, 'neanderthal', {'weight': 1}), (1, 'inherit', {'weight': 2}), (1, 'present', {'weight': 1}), (1, 'oceania', {'weight': 1}), (1, 'denisovan', {'weight': 1}), (1, 'individual', {'weight': 2}), (1, 'eurasia', {'weight': 1}), (1, 'genome', {'weight': 2}), (1, 'neanderthal', {'weight': 1}), (1, 'day', {'weight': 1}), (2, 'unidentified', {'weight': 1}), (2, 'admixture', {'weight': 1}), (2, 'specie', {'weight': 1}), (2, 'suggestive', {'weight': 1}), (2, 'evidence', {'weight': 1}), (2, 'hominin', {'weight': 1}), (2, 'occur', {'weight': 1}), (2, 'africa', {'weight': 1}), (3, 'inherit', {'weight': 1}), (3, 'functional', {'weight': 1}), (3, 'admixture', {'weight': 1}), (3, 'phenotypic', {'weight': 1}), (3, 'understand', {'weight': 1}), (3, 'evolutionary', {'weight': 1}), (3, 'consequence', {'weight': 1}), (3, 'hominin', {'weight': 1}), (3, 'identify', {'weight': 1}), (3, 'specific', {'weight': 1}), (3, 'haplotype', {'weight': 1}), (3, 'archaic', {'weight': 2}), (3, 'ancestor', {'weight': 1}), (3, 'allele', {'weight': 1}), (4, 'sequence', {'weight': 1}), (4, 'hominin', {'weight': 1}), (4, 'incorporate', {'weight': 1}), (4, 'identify', {'weight': 1}), (4, 'method', {'weight': 2}), (4, 'approach', {'weight': 1}), (4, 'free', {'weight': 1}), (4, 'specifically', {'weight': 1}), (4, 'include', {'weight': 1}), (4, 'utilize', {'weight': 1}), (4, 'introgressed', {'weight': 1}), (4, 'information', {'weight': 1}), (4, 'haplotype', {'weight': 1}), (4, 'genome', {'weight': 1}), (4, 'reference', {'weight': 2}), (4, 'archaic', {'weight': 1}), (5, 'sequence', {'weight': 1}), (5, 'sankararaman', {'weight': 1}), (5, 'category', {'weight': 1}), (5, 'compare', {'weight': 1}), (5, 'identify', {'weight': 1}), (5, 'method', {'weight': 1}), (5, 'modern', {'weight': 1}), (5, 'human', {'weight': 1}), (5, 'haplotype', {'weight': 2}), (5, 'reference', {'weight': 1}), (5, 'archaic', {'weight': 2}), (6, 'statistic', {'weight': 1}), (6, 'admixture', {'weight': 1}), (6, 'category', {'weight': 1}), (6, 'signature', {'weight': 1}), (6, 's', {'weight': 1}), (6, 'present', {'weight': 1}), (6, 'mutational', {'weight': 1}), (6, 'method', {'weight': 1}), (6, 'ancient', {'weight': 1}), (6, 'include', {'weight': 1}), (6, 'search', {'weight': 1}), (6, 'human', {'weight': 1}), (6, 'genome', {'weight': 1}), (6, 'day', {'weight': 1}), (6, 'leaf', {'weight': 1}), (7, 'powerful', {'weight': 1}), (7, 'find', {'weight': 1}), (7, 'leverage', {'weight': 1}), (7, 'unusual', {'weight': 1}), (7, 'absence', {'weight': 1}), (7, 's', {'weight': 1}), (7, 'mutational', {'weight': 1}), (7, 'approach', {'weight': 1}), (7, 'characteristic', {'weight': 1}), (7, 'introgressed', {'weight': 2}), (7, 'haplotype', {'weight': 2}), (7, 'genome', {'weight': 1}), (7, 'reference', {'weight': 1}), (7, 'archaic', {'weight': 1}), (8, 'time', {'weight': 1}), (8, 'divergence', {'weight': 1}), (8, 'lineage', {'weight': 1}), (8, 'carry', {'weight': 1}), (8, 'long', {'weight': 1}), (8, 'specific', {'weight': 1}), (8, 'modern', {'weight': 1}), (8, 'human', {'weight': 1}), (8, 'neanderthal', {'weight': 2}), (8, 'allele', {'weight': 1}), (9, 'present', {'weight': 1}), (9, 'absent', {'weight': 1}), (9, 'introgressed', {'weight': 1}), (9, 'haplotype', {'weight': 1}), (9, 'genome', {'weight': 1}), (9, 'african', {'weight': 1}), (9, 'rare', {'weight': 1}), (9, 'allele', {'weight': 1}), (10, 'distance', {'weight': 1}), (10, 'kb', {'weight': 1}), (10, 'result', {'weight': 1}), (10, 'linkage', {'weight': 1}), (10, 'average', {'weight': 1}), (10, 'admixture', {'weight': 1}), (10, 'recombination', {'weight': 1}), (10, 'recent', {'weight': 1}), (10, 'disequilibrium', {'weight': 1}), (10, 'specific', {'weight': 1}), (10, 'level', {'weight': 1}), (10, 'maintain', {'weight': 1}), (10, 'timing', {'weight': 1}), (10, 'introgressed', {'weight': 1}), (10, 'human', {'weight': 1}), (10, 'haplotype', {'weight': 1}), (10, 'base', {'weight': 1}), (10, 'genome', {'weight': 1}), (10, 'expect', {'weight': 1}), (10, 'african', {'weight': 1}), (10, 'approximately', {'weight': 1}), (10, 'neanderthal', {'weight': 1}), (10, 'allele', {'weight': 1}), (10, 'high', {'weight': 1}), (11, 'develop', {'weight': 1}), (11, 'scale', {'weight': 1}), (11, 'suitable', {'weight': 1}), (11, 'increase', {'weight': 1}), (11, 'method', {'weight': 1}), (11, 'power', {'weight': 1}), (11, 'slike', {'weight': 1}), (11, 'study', {'weight': 1}), (11, 'datum', {'weight': 1}), (11, 'wide', {'weight': 1}), (11, 'genome', {'weight': 1}), (11, 'large', {'weight': 1}), (12, 'sequence', {'weight': 1}), (12, 'putative', {'weight': 1}), (12, 'apply', {'weight': 1}), (12, 'identify', {'weight': 1}), (12, 'set', {'weight': 1}), (12, 'method', {'weight': 1}), (12, 'specific', {'weight': 1}), (12, 'oceania', {'weight': 1}), (12, 'datum', {'weight': 1}), (12, 'eurasia', {'weight': 1}), (12, 'archaic', {'weight': 1}), (12, 'large', {'weight': 1}), (12, 'allele', {'weight': 1}), (13, 'sequence', {'weight': 1}), (13, 'gene', {'weight': 1}), (13, 'impact', {'weight': 1}), (13, 'insight', {'weight': 1}), (13, 'admixture', {'weight': 1}), (13, 'role', {'weight': 1}), (13, 'rate', {'weight': 1}), (13, 'obtain', {'weight': 1}), (13, 'history', {'weight': 1}), (13, 'modern', {'weight': 1}), (13, 'event', {'weight': 1}), (13, 'examine', {'weight': 1}), (13, 'human', {'weight': 1}), (13, 'genome', {'weight': 2}), (13, 'archaic', {'weight': 1}), (13, 'match', {'weight': 1}), (13, 'allele', {'weight': 2})])"
      ]
     },
     "execution_count": 224,
     "metadata": {},
     "output_type": "execute_result"
    }
   ],
   "source": [
    "B.edges(data=True)"
   ]
  },
  {
   "cell_type": "markdown",
   "metadata": {},
   "source": [
    "## proyectamos el grafo sobre el conjunto de oraciones"
   ]
  },
  {
   "cell_type": "code",
   "execution_count": 225,
   "metadata": {},
   "outputs": [],
   "source": [
    "def projected_bipartite_graph(text_clean): \n",
    "    n=len(text_clean)\n",
    "    B=bipartite_graph(text_clean)\n",
    "    return bipartite.weighted_projected_graph(B,range(n))"
   ]
  },
  {
   "cell_type": "code",
   "execution_count": 226,
   "metadata": {},
   "outputs": [],
   "source": [
    "B_p=projected_bipartite_graph(text_clean)"
   ]
  },
  {
   "cell_type": "code",
   "execution_count": 227,
   "metadata": {},
   "outputs": [
    {
     "data": {
      "text/plain": [
       "EdgeDataView([(0, 1, {'weight': 4}), (0, 2, {'weight': 1}), (0, 3, {'weight': 2}), (0, 4, {'weight': 4}), (0, 5, {'weight': 4}), (0, 6, {'weight': 2}), (0, 7, {'weight': 2}), (0, 8, {'weight': 3}), (0, 9, {'weight': 1}), (0, 10, {'weight': 3}), (0, 11, {'weight': 1}), (0, 12, {'weight': 3}), (0, 13, {'weight': 5}), (1, 3, {'weight': 1}), (1, 4, {'weight': 1}), (1, 6, {'weight': 3}), (1, 7, {'weight': 1}), (1, 8, {'weight': 1}), (1, 9, {'weight': 2}), (1, 10, {'weight': 2}), (1, 11, {'weight': 1}), (1, 12, {'weight': 2}), (1, 13, {'weight': 1}), (2, 3, {'weight': 2}), (2, 4, {'weight': 1}), (2, 6, {'weight': 1}), (2, 10, {'weight': 1}), (2, 13, {'weight': 1}), (3, 4, {'weight': 4}), (3, 5, {'weight': 3}), (3, 6, {'weight': 1}), (3, 7, {'weight': 2}), (3, 8, {'weight': 2}), (3, 9, {'weight': 2}), (3, 10, {'weight': 4}), (3, 12, {'weight': 4}), (3, 13, {'weight': 3}), (4, 5, {'weight': 6}), (4, 6, {'weight': 3}), (4, 7, {'weight': 6}), (4, 9, {'weight': 3}), (4, 10, {'weight': 3}), (4, 11, {'weight': 2}), (4, 12, {'weight': 4}), (4, 13, {'weight': 3}), (5, 6, {'weight': 3}), (5, 7, {'weight': 3}), (5, 8, {'weight': 2}), (5, 9, {'weight': 1}), (5, 10, {'weight': 2}), (5, 11, {'weight': 1}), (5, 12, {'weight': 4}), (5, 13, {'weight': 4}), (6, 7, {'weight': 3}), (6, 8, {'weight': 1}), (6, 9, {'weight': 2}), (6, 10, {'weight': 3}), (6, 11, {'weight': 2}), (6, 12, {'weight': 1}), (6, 13, {'weight': 3}), (7, 9, {'weight': 3}), (7, 10, {'weight': 3}), (7, 11, {'weight': 1}), (7, 12, {'weight': 1}), (7, 13, {'weight': 2}), (8, 9, {'weight': 1}), (8, 10, {'weight': 4}), (8, 12, {'weight': 2}), (8, 13, {'weight': 3}), (9, 10, {'weight': 5}), (9, 11, {'weight': 1}), (9, 12, {'weight': 1}), (9, 13, {'weight': 2}), (10, 11, {'weight': 1}), (10, 12, {'weight': 2}), (10, 13, {'weight': 4}), (11, 12, {'weight': 3}), (11, 13, {'weight': 1}), (12, 13, {'weight': 3})])"
      ]
     },
     "execution_count": 227,
     "metadata": {},
     "output_type": "execute_result"
    }
   ],
   "source": [
    "B_p.edges(data=True)"
   ]
  },
  {
   "cell_type": "markdown",
   "metadata": {},
   "source": [
    "## rankeamos las oraciones"
   ]
  },
  {
   "cell_type": "code",
   "execution_count": 253,
   "metadata": {},
   "outputs": [],
   "source": [
    "def rank(text_clean):\n",
    "    B_p=projected_bipartite_graph(text_clean)\n",
    "    d=nx.pagerank(B_p, alpha=0.85, weight='weight')\n",
    "    return sorted(d.items(), key=operator.itemgetter(1),reverse=True) ## mayor a menor importancia!"
   ]
  },
  {
   "cell_type": "code",
   "execution_count": 256,
   "metadata": {},
   "outputs": [
    {
     "data": {
      "text/plain": [
       "14"
      ]
     },
     "execution_count": 256,
     "metadata": {},
     "output_type": "execute_result"
    }
   ],
   "source": [
    "len(text_clean)"
   ]
  },
  {
   "cell_type": "code",
   "execution_count": 257,
   "metadata": {},
   "outputs": [
    {
     "data": {
      "text/plain": [
       "[(4, 0.10090806784340152),\n",
       " (10, 0.09487792192982422),\n",
       " (0, 0.09006187168360215),\n",
       " (13, 0.08976139258612068),\n",
       " (5, 0.08396239373350745),\n",
       " (3, 0.07898088981927877),\n",
       " (12, 0.07820254613793864),\n",
       " (6, 0.07451327789414043),\n",
       " (7, 0.07056890131302163),\n",
       " (9, 0.06429445937476125),\n",
       " (1, 0.05327081263983303),\n",
       " (8, 0.0526889660313069),\n",
       " (11, 0.041765459961139895),\n",
       " (2, 0.026143039052123493)]"
      ]
     },
     "execution_count": 257,
     "metadata": {},
     "output_type": "execute_result"
    }
   ],
   "source": [
    "rank(text_clean)"
   ]
  },
  {
   "cell_type": "code",
   "execution_count": 258,
   "metadata": {},
   "outputs": [],
   "source": [
    "text_clean=text_clean+[['Lion','dog','cat']]\n",
    "text=text+' '+' '.join(['Lion','dog','cat']) ## detectar una oracion rara"
   ]
  },
  {
   "cell_type": "code",
   "execution_count": 259,
   "metadata": {},
   "outputs": [
    {
     "data": {
      "text/plain": [
       "15"
      ]
     },
     "execution_count": 259,
     "metadata": {},
     "output_type": "execute_result"
    }
   ],
   "source": [
    "len(text_clean)"
   ]
  },
  {
   "cell_type": "code",
   "execution_count": 260,
   "metadata": {},
   "outputs": [
    {
     "data": {
      "text/plain": [
       "[(4, 0.09983838272559105),\n",
       " (10, 0.09387216533657756),\n",
       " (0, 0.08910720117780081),\n",
       " (13, 0.08880984862244024),\n",
       " (5, 0.08307229471951444),\n",
       " (3, 0.07814366451476414),\n",
       " (12, 0.07737355109349507),\n",
       " (6, 0.0737234257269099),\n",
       " (7, 0.0698207981654502),\n",
       " (9, 0.06361289048233003),\n",
       " (1, 0.05270606889255221),\n",
       " (8, 0.052130407893090105),\n",
       " (11, 0.041322709183303497),\n",
       " (2, 0.025865884746438868),\n",
       " (14, 0.010600706719741941)]"
      ]
     },
     "execution_count": 260,
     "metadata": {},
     "output_type": "execute_result"
    }
   ],
   "source": [
    "rank(text_clean)"
   ]
  },
  {
   "cell_type": "code",
   "execution_count": null,
   "metadata": {},
   "outputs": [],
   "source": []
  }
 ],
 "metadata": {
  "kernelspec": {
   "display_name": "Python 3",
   "language": "python",
   "name": "python3"
  },
  "language_info": {
   "codemirror_mode": {
    "name": "ipython",
    "version": 3
   },
   "file_extension": ".py",
   "mimetype": "text/x-python",
   "name": "python",
   "nbconvert_exporter": "python",
   "pygments_lexer": "ipython3",
   "version": "3.6.3"
  }
 },
 "nbformat": 4,
 "nbformat_minor": 2
}
